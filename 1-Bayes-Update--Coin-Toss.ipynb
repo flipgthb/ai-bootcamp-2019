{
 "cells": [
  {
   "cell_type": "markdown",
   "metadata": {},
   "source": [
    "# Bayes update\n",
    "\n",
    "As explained in the notes, the Bayes update, or rule, tells us how to update our knowledge about something based on new information.\n",
    "\n",
    "The coin toss example can provide a visual sequence of how our model, the probability $\\theta$ of getting heads, changes as we keep tossing coins. If we start with a prior $P(\\theta|I_0)$ and toss once, getting the face $s_1$, the posterior is $P(\\theta|s_1I_0) = \\frac{P(\\theta|I_0)P(s_1|\\theta I_0)}{Norm}$, where $Norm = \\int_0^1 P(\\theta|I_0)P(s_1|\\theta I_0)$ is a normalization constant.\n",
    "The Bayes rule tells replace our old prior by the posterior $P(\\theta|I_0)\\to P(\\theta|s_1 I_0)=P(\\theta|I_1)$, then with a next toss yielding $s_2$ we replace $P(\\theta|I_1)\\to P(\\theta|s_2 I_1) = P(\\theta|I_2)$ and so on.\n",
    "\n",
    "If our model is $P(s=h|\\theta I_0) = \\theta$ and $P(s=t|\\theta I_0) = 1 - \\theta$, for $\\theta \\in [0,1]$, we can plot it after every coin toss and see how our belief of a biased coin changes as we go.\n",
    "Notice that for $s=h$ we $P(\\theta|s_1 I_0) = \\frac{\\theta P(\\theta|I_0)}{Norm}$ and for $s=t$ we get $P(\\theta|s_1 I_0) = \\frac{(1-\\theta)P(\\theta|I_0)}{Norm}$.   "
   ]
  },
  {
   "cell_type": "code",
   "execution_count": 27,
   "metadata": {},
   "outputs": [],
   "source": [
    "%matplotlib inline\n",
    "import numpy as np\n",
    "import matplotlib.pyplot as plt\n",
    "# scipy contains lots of useful algorithm for scitific computing, including probability distributions and\n",
    "# statistical analysis, function and differential equation integration routines an much more.\n",
    "# For this example I'm importing a few functions from the statistics and integration modules:\n",
    "# Probability distributions:\n",
    "from scipy.stats import beta, norm as normal, uniform, bernoulli, rv_continuous\n",
    "# Definite integration for functions using Gaussian Quadrature\n",
    "from scipy.integrate import quad\n",
    "\n",
    "# Since we need to integrate a function after every coin toss, lets create a function that computes the\n",
    "# right hand side of the Bayes update and returns the appropriate funtion given the result of a coin toss.\n",
    "def bayes_update(s,prior):\n",
    "    if s == 1:   # case s=h (heads)\n",
    "        def likelihood_times_prior(θ):\n",
    "            return θ*prior(θ)\n",
    "    else:        # case s=t (tails)\n",
    "        def likelihood_times_prior(θ):\n",
    "            return (1-θ)*prior(θ)\n",
    "    \n",
    "    # integrate to get Norm.                        vvv this bit is to get only the result of the integral      \n",
    "    normalization = quad(likelihood_times_prior,0,1)[0]\n",
    "    \n",
    "    # here we define the function that will replace our prior\n",
    "    def posterior(θ):\n",
    "        return likelihood_times_prior(θ)/normalization\n",
    "    \n",
    "    return posterior"
   ]
  },
  {
   "cell_type": "markdown",
   "metadata": {},
   "source": [
    "To see how our prior affects our learning about the biasedness of the coin, we will use a few different prior functions, a completelly unbiased uniform distribution over $[0,1]$, a strongly biased beta distribution for a coin completelly biased towards one of the faces and a strongly biased normal distribution for a specific probability of flipping heads."
   ]
  },
  {
   "cell_type": "code",
   "execution_count": 28,
   "metadata": {},
   "outputs": [
    {
     "data": {
      "image/png": "[encoded data removed]",
      "text/plain": [
       "<Figure size 648x216 with 3 Axes>"
      ]
     },
     "metadata": {
      "needs_background": "light"
     },
     "output_type": "display_data"
    }
   ],
   "source": [
    "# basic use of scipy distribution objects: name_of_distribution(*parameters_of_dist).pdf(x) the\n",
    "# probability density for point x.\n",
    "# almost U-shaped Beta distribution \n",
    "beta_prior = beta(0.4,0.6).pdf\n",
    "# Normal distribtution with strong bias towards a fair coin\n",
    "normal_prior = normal(0.5,0.02).pdf\n",
    "# Uniform unbiased prior\n",
    "uniform_prior = uniform().pdf\n",
    "\n",
    "# This function just plots a function p over the interval [0,1]\n",
    "def plot_p_θ(p, ax=None, **kwargs):\n",
    "    θs = np.linspace(0,1,100,endpoint=True)\n",
    "    ps = p(θs)\n",
    "    mean = quad(lambda x: x*p(x),0,1)[0]\n",
    "    if ax is None:\n",
    "        ax = plt.gca()\n",
    "    ax.plot(θs, ps)\n",
    "    ax.axvline(mean,color='r',linestyle='--',\n",
    "               label='mean=${:.2}$'.format(mean))\n",
    "    if 'title' in kwargs:\n",
    "        ax.set_title(kwargs.pop('title'))\n",
    "    for s in ('top','right'):\n",
    "        ax.spines[s].set_visible(False)\n",
    "    ax.legend(loc='upper left')\n",
    "    ax.set_ylabel(r'$\\propto P(\\theta)$')\n",
    "    ax.set_xlabel(r'$\\theta$')\n",
    "    return ax\n",
    "\n",
    "# Lets look at the distributions \n",
    "fig, axs = plt.subplots(figsize=(9,3),ncols=3)\n",
    "for ((n,p),ax) in zip({'Uniform':uniform_prior,'Beta':beta_prior,'Normal':normal_prior}.items(),axs):\n",
    "    plot_p_θ(p,ax=ax, title=n)\n",
    "\n",
    "#plt.show()"
   ]
  },
  {
   "cell_type": "markdown",
   "metadata": {},
   "source": [
    "The next functions are just to setup a figure for all the priors we want to see and the sample histogram for coin tosses in a sequential way."
   ]
  },
  {
   "cell_type": "code",
   "execution_count": 29,
   "metadata": {},
   "outputs": [],
   "source": [
    "def compare_plots(*,total,heads,real_θ,**priors):\n",
    "    fig, axs = plt.subplots(ncols=4, figsize=(12,3))\n",
    "    for ((d,p),ax) in zip(priors.items(),axs):\n",
    "        plot_p_θ(p, ax=ax, title=d)\n",
    "    for i in (1,2):\n",
    "        axs[i].set_yticks([])\n",
    "        axs[i].set_ylabel('')\n",
    "        axs[i].spines['left'].set_visible(False)\n",
    "    for s in ('right','top'):\n",
    "        axs[-1].spines[s].set_visible(False)\n",
    "    axs[-1].set_ylim(0,1)\n",
    "    axs[-1].axhline(real_θ,color='r',linestyle='--',\n",
    "                    label=r'real $\\theta=$'+f'{real_θ:.3}')\n",
    "    if total == 0: \n",
    "        fh, ft = 0, 0\n",
    "    else:\n",
    "        fh = heads/total\n",
    "        ft = 1 - fh\n",
    "    axs[-1].bar(['heads','tails'],[fh, ft])\n",
    "    axs[-1].set_title('$'+f'N={total}'+'$')\n",
    "    axs[-1].legend(loc='upper right')\n",
    "    return fig\n",
    "\n",
    "def multi_prior_updates(real_θ,**priors):\n",
    "    toss = bernoulli(real_θ).rvs\n",
    "    n, h = 0, 0\n",
    "    while True:\n",
    "        yield {'real_θ':real_θ,'heads':h,'total':n},priors\n",
    "        s = toss()\n",
    "        n += 1\n",
    "        h += s\n",
    "        for (d,p) in priors.items():\n",
    "            priors[d] = bayes_update(s,p)"
   ]
  },
  {
   "cell_type": "code",
   "execution_count": 30,
   "metadata": {},
   "outputs": [],
   "source": [
    "figs = [{**sd,**pd}\n",
    "        for (n,(sd,pd)) in zip(range(61),\n",
    "                               multi_prior_updates(0.7,\n",
    "                                                   Uniform=uniform_prior,\n",
    "                                                   Beta=beta_prior,\n",
    "                                                   Normal=normal_prior)) \n",
    "        if n % 20 == 0]"
   ]
  },
  {
   "cell_type": "code",
   "execution_count": 32,
   "metadata": {},
   "outputs": [
    {
     "name": "stderr",
     "output_type": "stream",
     "text": [
      "/opt/anaconda/lib/python3.7/site-packages/ipykernel_launcher.py:17: RuntimeWarning: invalid value encountered in multiply\n",
      "/opt/anaconda/lib/python3.7/site-packages/ipykernel_launcher.py:20: RuntimeWarning: invalid value encountered in multiply\n"
     ]
    },
    {
     "data": {
      "image/png": "[encoded data removed]",
      "text/plain": [
       "<Figure size 864x216 with 4 Axes>"
      ]
     },
     "metadata": {
      "needs_background": "light"
     },
     "output_type": "display_data"
    }
   ],
   "source": [
    "n = 2\n",
    "_=compare_plots(**figs[n])"
   ]
  },
  {
   "cell_type": "markdown",
   "metadata": {},
   "source": [
    "## Exercise\n",
    "\n",
    "Lets do the Bayesian version of the line fit exercise from Python tutorial notebook.\n",
    "\n",
    "Consider we have a set of points $\\{(x_1,y_1),(x_2,y_2)\\dots,(x_n,y_n)\\}$ for which we theorize that $y = ax + b$. We can use probability infer the paramenters $a$ and $b$, pretty much as we did above with the probability $\\theta$ of getting heads in a coin toss.\n",
    "If we consider possible mesurament errors, we expect the value of any given $y_i$ to be around $ax_i + b$, so lets choose the likelihood of observing $(x,y)$ given the model to be a Normal distribution for $y-ax-b$ with mean $0$ and variance $1$: $L(y-ax-b|a,b,I) = \\frac{1}{\\sqrt{2\\pi}}\\mathrm{e}^{-{1\\over2}(y-ax-b)^2}$.\n",
    "\n",
    "Lets choose a Normal distribution as prior for $a$ and $b$, so $Q(a,b|I) = N(a|\\hat{a},v_a)N(b|\\hat{b},v_b)$ \n",
    "With the likehood $L$ we can update our prior $Q$ to the posterior $P = \\frac{QL}{Norm}$ and get an estimate for the parameters $a$ and $b$. For this case, lets use the posterior mean as an estimate, so $\\hat{a} = \\int aQ(a,b|I)\\mathrm{d}a$ and $\\hat{b} = \\int bQ(a,b|I) \\mathrm{d}b$.\n",
    "We can do this *online*, by using each point in the dataset once and sequentilly, or *offline*, using the whole dataset once.\n",
    "\n",
    "Your tasks are:\n",
    "  1. Use the Probability rules to write the likelihood for the whole dataset\n",
    "  2. Choose the initial values of the *hyperparameters* $\\hat{a},v_a,\\hat{b},v_b$ so that the prior is not frozen as in the coin toss example with a normal prior.\n",
    "  3. Write a Python function to update the prior to a posterior in this problem.\n",
    "  4. Use the function `plot_p_and_line` to plot the distribution $P$ and the fitted line ~~at each step in the online scenario and~~for the final result in the offline scneario.\n",
    "  \n",
    "The data set to be used is in the variable `data`."
   ]
  },
  {
   "cell_type": "code",
   "execution_count": 63,
   "metadata": {},
   "outputs": [],
   "source": [
    "from scipy.integrate import dblquad\n",
    "# just a shorthand for infinity\n",
    "oo = np.infty\n",
    "\n",
    "np.random.seed(42)\n",
    "x = np.linspace(-5,5,11,endpoint=True)\n",
    "x += 0.5*np.random.randn(x.shape[0])\n",
    "y = 3.5*x - 1 + np.random.randn(x.shape[0])\n",
    "\n",
    "# here the dataset is structured as two array instead of a list \n",
    "# of pairs\n",
    "data = (x,y)\n",
    "\n",
    "def plot_p_and_line(p, hat_a, hat_b, dataset,lims=(-5,5)):\n",
    "    fig, axs = plt.subplots(ncols=2,figsize=(8,3)) \n",
    "    z = np.linspace(*lims, 200, endpoint=True)\n",
    "    pab = p(z,z[:,None])\n",
    "    axs[1].plot(z,hat_a*z+hat_b,c='r',label='fit')\n",
    "    axs[1].scatter(*dataset, label='data')\n",
    "    for s in ('top','right'):\n",
    "        axs[1].spines[s].set_visible(False)\n",
    "    axs[1].set_xlabel(r'$x$')\n",
    "    axs[1].set_ylabel(r'$y$')\n",
    "    for (s,e) in axs[0].spines.items():\n",
    "        e.set_visible(False)\n",
    "    img = axs[0].pcolormesh(z,z[:,None],pab,cmap='magma')\n",
    "    fig.colorbar(img,ax=axs[0])\n",
    "    axs[0].axvline(hat_a,color='b',linestyle='--',lw=1)\n",
    "    axs[0].axhline(hat_b,color='b',linestyle='--',lw=1)\n",
    "    axs[0].set_xlabel(r'$a$')\n",
    "    axs[0].set_ylabel(r'$b$')\n",
    "    fig.tight_layout()\n",
    "    return fig\n",
    "\n",
    "# call this function to get the prior\n",
    "def init_prior(hat_a,v_a,hat_b,v_b):\n",
    "    na, nb = normal(hat_a,v_a), normal(hat_b,v_b)\n",
    "    def prior(a,b):\n",
    "        return na.pdf(a)*nb.pdf(b)\n",
    "    return prior\n",
    "\n",
    "# call this function to get the mean of a distribution in this problem\n",
    "def means(p):\n",
    "    bounds = (-oo, oo, lambda x: -oo, lambda x: oo)\n",
    "    hat_a,_ = dblquad(lambda a,b: a*p(a,b), *bounds)\n",
    "    hat_b,_ = dblquad(lambda a,b: b*p(a,b), *bounds)\n",
    "    return hat_a, hat_b\n",
    "\n",
    "# this is the likelihood for each point of the dataset\n",
    "Lp = normal(0,1).pdf\n",
    "def point_likelihood(x,y,a,b):\n",
    "    return Lp(y-a*x-b)"
   ]
  },
  {
   "cell_type": "markdown",
   "metadata": {},
   "source": [
    "For instance, if a choose a prior with $\\hat{a}=10$, $v_a = 1.$, $\\hat{b}=-5$ and $v_b = 2.$, the prior would look like this"
   ]
  },
  {
   "cell_type": "code",
   "execution_count": 66,
   "metadata": {},
   "outputs": [
    {
     "data": {
      "image/png": "[encoded data removed]",
      "text/plain": [
       "<Figure size 576x216 with 3 Axes>"
      ]
     },
     "metadata": {
      "needs_background": "light"
     },
     "output_type": "display_data"
    }
   ],
   "source": [
    "q = init_prior(2,1,-5,2)\n",
    "hat_a, hat_b = means(q)\n",
    "_=plot_p_and_line(q,hat_a,hat_b,data,lims=(-15,15))"
   ]
  },
  {
   "cell_type": "markdown",
   "metadata": {},
   "source": [
    "Notice that this prior is very biased towards its parameter vales and that the fit is not good. If you start with this particular choice, what you expect would happen?"
   ]
  },
  {
   "cell_type": "code",
   "execution_count": null,
   "metadata": {},
   "outputs": [],
   "source": []
  },
  {
   "cell_type": "code",
   "execution_count": null,
   "metadata": {},
   "outputs": [],
   "source": []
  },
  {
   "cell_type": "code",
   "execution_count": null,
   "metadata": {},
   "outputs": [],
   "source": []
  },
  {
   "cell_type": "code",
   "execution_count": null,
   "metadata": {},
   "outputs": [],
   "source": []
  },
  {
   "cell_type": "code",
   "execution_count": null,
   "metadata": {},
   "outputs": [],
   "source": []
  },
  {
   "cell_type": "code",
   "execution_count": null,
   "metadata": {},
   "outputs": [],
   "source": []
  },
  {
   "cell_type": "code",
   "execution_count": null,
   "metadata": {},
   "outputs": [],
   "source": []
  },
  {
   "cell_type": "code",
   "execution_count": null,
   "metadata": {},
   "outputs": [],
   "source": []
  },
  {
   "cell_type": "code",
   "execution_count": null,
   "metadata": {},
   "outputs": [],
   "source": []
  },
  {
   "cell_type": "code",
   "execution_count": null,
   "metadata": {},
   "outputs": [],
   "source": []
  },
  {
   "cell_type": "code",
   "execution_count": null,
   "metadata": {},
   "outputs": [],
   "source": []
  },
  {
   "cell_type": "code",
   "execution_count": null,
   "metadata": {},
   "outputs": [],
   "source": []
  },
  {
   "cell_type": "code",
   "execution_count": null,
   "metadata": {},
   "outputs": [],
   "source": []
  },
  {
   "cell_type": "code",
   "execution_count": null,
   "metadata": {},
   "outputs": [],
   "source": []
  },
  {
   "cell_type": "code",
   "execution_count": null,
   "metadata": {},
   "outputs": [],
   "source": []
  },
  {
   "cell_type": "code",
   "execution_count": null,
   "metadata": {},
   "outputs": [],
   "source": []
  },
  {
   "cell_type": "code",
   "execution_count": null,
   "metadata": {},
   "outputs": [],
   "source": []
  },
  {
   "cell_type": "code",
   "execution_count": null,
   "metadata": {},
   "outputs": [],
   "source": []
  },
  {
   "cell_type": "code",
   "execution_count": null,
   "metadata": {},
   "outputs": [],
   "source": []
  },
  {
   "cell_type": "code",
   "execution_count": null,
   "metadata": {},
   "outputs": [],
   "source": []
  },
  {
   "cell_type": "code",
   "execution_count": 67,
   "metadata": {},
   "outputs": [],
   "source": [
    "def line_bayes(x,y,prior,likelihood):\n",
    "    def likelihood_times_prior(a,b):\n",
    "        return prior(a,b)*likelihood(x,y,a,b)\n",
    "    \n",
    "    integration_bounds = (-oo, oo, lambda x: -oo, lambda x: oo)\n",
    "    \n",
    "    # duo to numerical instalbilities its is necessary to do this twice, which is very dumb, \n",
    "    # but we are stuck with it for now\n",
    "    normalization,error = dblquad(likelihood_times_prior, *integration_bounds)\n",
    "    def almost_posterior(a,b):\n",
    "        return likelihood_times_prior(a,b)/normalization\n",
    "    \n",
    "    normalization2,error = dblquad(almost_posterior, *integration_bounds)\n",
    "    def posterior(a,b):\n",
    "        return almost_posterior(a,b)/normalization2\n",
    "    \n",
    "    return posterior\n",
    "\n",
    "# likelihood for the whole dataset\n",
    "def data_likelihood(x,y,a,b):\n",
    "    l = 1.0\n",
    "    for (xi,yi) in zip(x,y):\n",
    "        l *= point_likelihood(xi,yi,a,b)\n",
    "    return l"
   ]
  },
  {
   "cell_type": "code",
   "execution_count": 70,
   "metadata": {},
   "outputs": [
    {
     "data": {
      "image/png": "[encoded data removed]",
      "text/plain": [
       "<Figure size 576x216 with 3 Axes>"
      ]
     },
     "metadata": {
      "needs_background": "light"
     },
     "output_type": "display_data"
    }
   ],
   "source": [
    "p = line_bayes(x,y,q,data_likelihood)\n",
    "hat_a, hat_b = means(p)\n",
    "_=plot_p_and_line(p, hat_a, hat_b, data)"
   ]
  }
 ],
 "metadata": {
  "kernelspec": {
   "display_name": "Python 3",
   "language": "python",
   "name": "python3"
  },
  "language_info": {
   "codemirror_mode": {
    "name": "ipython",
    "version": 3
   },
   "file_extension": ".py",
   "mimetype": "text/x-python",
   "name": "python",
   "nbconvert_exporter": "python",
   "pygments_lexer": "ipython3",
   "version": "3.7.3"
  }
 },
 "nbformat": 4,
 "nbformat_minor": 2
}
