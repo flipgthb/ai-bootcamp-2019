{
 "cells": [
  {
   "cell_type": "markdown",
   "metadata": {},
   "source": [
    "# Entropy\n",
    "\n",
    "Lets take a look at how the entropy helps prevent us getting wrong conclusions. Wrong in the sense that it assumes more information than what we have to reason about it.\n",
    "\n",
    "The Shannon Entropy for a for distributions of a discrete variable is $H(P) = - \\sum_i p_i \\ln p_i$. All write it in a python function so we can see how it works later."
   ]
  },
  {
   "cell_type": "code",
   "execution_count": 162,
   "metadata": {},
   "outputs": [],
   "source": [
    "%matplotlib inline\n",
    "import numpy as np\n",
    "import matplotlib.pyplot as plt\n",
    "from scipy.stats import uniform, norm as normal, beta, bernoulli\n",
    "import scipy as sp\n",
    "\n",
    "def entropy(p):\n",
    "    Pi = np.atleast_1d(p).copy()\n",
    "    Pi[Pi==0] = 2.\n",
    "    lnPi = np.log(Pi)\n",
    "    lnPi[lnPi>0] = 0.\n",
    "    return -(Pi*lnPi).sum()\n",
    "\n",
    "# Just a function to plot probabilities for a dice\n",
    "def plot_p_dice(p,yt=np.arange(0,5)/4, ax=None, fig=None):\n",
    "    if ax is None:\n",
    "        fig, ax = plt.subplots(figsize=(3,3))\n",
    "    ax.bar(np.arange(1,7),p,width=0.25)\n",
    "    ax.set_xticks([1,2,3,4,5,6])\n",
    "    ax.set_ylim([0,1])\n",
    "    ax.set_yticks(yt)\n",
    "    ax.set_xlabel('Face observed')\n",
    "    ax.set_ylabel('P')\n",
    "    for s in 'top right'.split():\n",
    "        ax.spines[s].set_visible(False)\n",
    "    return fig, ax"
   ]
  },
  {
   "cell_type": "markdown",
   "metadata": {},
   "source": [
    "Consider we have a dice and we want to know whats is the probability of observing each face in a \"fair\" toss.\n",
    "Consider that ALL we know about the dice is\n",
    "  1. it has 6 face, each one with a different number of dots printed on it, from 1 dot to 6 dots\n",
    "  2. the average of the number of dots in the faces of this dice is $3.5$\n",
    "\n",
    "Given this information, can we find the probabilities we want?\n",
    "Lets begin with two distribtutions that conform with the information we , the uniform "
   ]
  },
  {
   "cell_type": "code",
   "execution_count": 163,
   "metadata": {},
   "outputs": [
    {
     "data": {
      "image/png": "[encoded data removed]",
      "text/plain": [
       "<Figure size 216x216 with 1 Axes>"
      ]
     },
     "metadata": {
      "needs_background": "light"
     },
     "output_type": "display_data"
    }
   ],
   "source": [
    "dice_p_uniform = np.array([1/6]*6)\n",
    "_=plot_p_dice(dice_p_uniform, yt=np.arange(7)/6)"
   ]
  },
  {
   "cell_type": "markdown",
   "metadata": {},
   "source": [
    "Notice that the average of the dots in the face of the dice with this distribution is"
   ]
  },
  {
   "cell_type": "code",
   "execution_count": 164,
   "metadata": {},
   "outputs": [
    {
     "data": {
      "text/plain": [
       "3.5"
      ]
     },
     "execution_count": 164,
     "metadata": {},
     "output_type": "execute_result"
    }
   ],
   "source": [
    "dice_uniform_mean = (np.arange(1,7)*dice_p_uniform).sum()\n",
    "dice_uniform_mean"
   ]
  },
  {
   "cell_type": "markdown",
   "metadata": {},
   "source": [
    "and a biased distribution for like that"
   ]
  },
  {
   "cell_type": "code",
   "execution_count": 165,
   "metadata": {},
   "outputs": [
    {
     "data": {
      "image/png": "[encoded data removed]",
      "text/plain": [
       "<Figure size 216x216 with 1 Axes>"
      ]
     },
     "metadata": {
      "needs_background": "light"
     },
     "output_type": "display_data"
    }
   ],
   "source": [
    "dice_p_biased_16 = np.array([1/2,0,0,0,0,1/2])\n",
    "_=plot_p_dice(dice_p_biased_16)"
   ]
  },
  {
   "cell_type": "markdown",
   "metadata": {},
   "source": [
    "and its mean is"
   ]
  },
  {
   "cell_type": "code",
   "execution_count": 166,
   "metadata": {},
   "outputs": [
    {
     "data": {
      "text/plain": [
       "3.5"
      ]
     },
     "execution_count": 166,
     "metadata": {},
     "output_type": "execute_result"
    }
   ],
   "source": [
    "dice_biased_16_mean = (np.arange(1,7)*dice_p_biased_16).sum()\n",
    "dice_biased_16_mean"
   ]
  },
  {
   "cell_type": "markdown",
   "metadata": {},
   "source": [
    "Now we can ask what is the entropy for each of this distributions? "
   ]
  },
  {
   "cell_type": "code",
   "execution_count": 168,
   "metadata": {},
   "outputs": [
    {
     "data": {
      "text/plain": [
       "<BarContainer object of 2 artists>"
      ]
     },
     "execution_count": 168,
     "metadata": {},
     "output_type": "execute_result"
    },
    {
     "data": {
      "image/png": "[encoded data removed]",
      "text/plain": [
       "<Figure size 432x288 with 1 Axes>"
      ]
     },
     "metadata": {
      "needs_background": "light"
     },
     "output_type": "display_data"
    }
   ],
   "source": [
    "ent_uniform = entropy(dice_p_uniform)\n",
    "ent_bias_16 = entropy(dice_p_biased_16)\n",
    "\n",
    "plt.bar(['uniform', 'biased 1,6'],[ent_uniform, ent_bias_16],width=0.75)"
   ]
  },
  {
   "cell_type": "markdown",
   "metadata": {},
   "source": [
    "We can see that the uniform has higher entropy than the biased. As we seen, we should always choose the highest entropy that is also compatible with the information available.\n",
    "\n",
    "Lets see how each of these distributions perform against a sample of dice tosses."
   ]
  },
  {
   "cell_type": "code",
   "execution_count": 184,
   "metadata": {},
   "outputs": [
    {
     "data": {
      "image/png": "[encoded data removed]",
      "text/plain": [
       "<Figure size 648x216 with 3 Axes>"
      ]
     },
     "metadata": {
      "needs_background": "light"
     },
     "output_type": "display_data"
    }
   ],
   "source": [
    "sample_1 = np.random.choice([1,2,3,4,5,6],size=10000)\n",
    "sample_2 = np.random.choice([1,2,3,4,5,6],p=[0.5,0,0,0,0,0.5],size=10000)\n",
    "sample_3 = np.random.choice([1,2,3,4,5,6],p=[0.35,0.2,0.05,0.05,0.1,0.25],size=10000)\n",
    "fig,axs = plt.subplots(ncols=3,figsize=(9,3))\n",
    "for ax,s in zip(axs,[sample_1,sample_2,sample_3]):\n",
    "    y,x = np.histogram(s,np.arange(1,8),density=True)\n",
    "    ax.bar(np.arange(1,7),y,width=0.25,color='#ff4444')\n",
    "    ax.set_xticks([0,1,2,3,4,5,6,7])\n",
    "    ax.set_xticklabels('0,1,2,3,4,5,6, '.split(','))\n",
    "    ax.set_ylim([0,1])\n",
    "    ax.set_yticks([0,1/4,1/2,3/4,1])"
   ]
  },
  {
   "cell_type": "code",
   "execution_count": 185,
   "metadata": {},
   "outputs": [],
   "source": [
    "ps1,ps2,ps3 = [np.histogram(s,np.arange(1,8),density=True)[0] \n",
    "               for s in (sample_1,sample_2,sample_3)]\n",
    "e1,e2,e3 = [entropy(ps) for ps in (ps1,ps2,ps3)]"
   ]
  },
  {
   "cell_type": "code",
   "execution_count": 186,
   "metadata": {},
   "outputs": [
    {
     "data": {
      "text/plain": [
       "(3.4724, 3.4595000000000002, 3.0862)"
      ]
     },
     "execution_count": 186,
     "metadata": {},
     "output_type": "execute_result"
    }
   ],
   "source": [
    "m1,m2,m3 = [(np.arange(1,7)*ps).sum() for ps in (ps1,ps2,ps3)]\n",
    "m1,m2,m3"
   ]
  },
  {
   "cell_type": "code",
   "execution_count": 188,
   "metadata": {},
   "outputs": [
    {
     "data": {
      "text/plain": [
       "(1.7915394244091107, 0.69301595481978, 1.5630650428642827)"
      ]
     },
     "execution_count": 188,
     "metadata": {},
     "output_type": "execute_result"
    }
   ],
   "source": [
    "e1,e2,e3"
   ]
  }
 ],
 "metadata": {
  "kernelspec": {
   "display_name": "Python 3",
   "language": "python",
   "name": "python3"
  },
  "language_info": {
   "codemirror_mode": {
    "name": "ipython",
    "version": 3
   },
   "file_extension": ".py",
   "mimetype": "text/x-python",
   "name": "python",
   "nbconvert_exporter": "python",
   "pygments_lexer": "ipython3",
   "version": "3.7.3"
  }
 },
 "nbformat": 4,
 "nbformat_minor": 2
}
