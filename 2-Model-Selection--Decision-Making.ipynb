{
 "cells": [
  {
   "cell_type": "markdown",
   "metadata": {},
   "source": [
    "# Model Selection\n",
    "\n",
    "Lets compare how data supports two models for a given phenomenon.\n",
    "Consider we have dataset $D$ and a two candidate models for it, $M_1$ and $M_2$.\n",
    "The probabilistic description for this scenario is\n",
    "\n",
    "$$ P(M_i|D) = \\frac{P(M_i)P(D|M_i)}{P(D)} $$\n",
    "\n",
    "and we can compare de odds to get\n",
    "\n",
    "$$ O_P = \\frac{P(M_2|D)}{P(M_1|D)} = \\frac{P(M_2)}{P(M_1)}\\frac{P(D|M_2)}{P(D|M_1)} = o_p B_{21}$$\n",
    "\n",
    "The Bayes Factor $B_{21}$ tells us how the odds of the model $2$ improve or decline againts the model $1$.\n",
    "If the models $1$ and $2$ are exaustive (and its a hard thing to consider), and writing the $P_i = P(M_i|D)$ and $p_i = P(M_i)$, then $P_2 + P_1 = p_2 + p_1 = 1$ and \n",
    "\n",
    "$$ \\frac{P_2}{P_1} = \\frac{P_2}{1 - P_1} = \\frac{p_2 B_{21}}{1-p_2} $$\n",
    "\n",
    "and therefore\n",
    "\n",
    "$$ P_2 = \\frac{B_{21}p_2}{1 - p_2(1-B_{21})} $$"
   ]
  }
 ],
 "metadata": {
  "kernelspec": {
   "display_name": "Python 3",
   "language": "python",
   "name": "python3"
  },
  "language_info": {
   "codemirror_mode": {
    "name": "ipython",
    "version": 3
   },
   "file_extension": ".py",
   "mimetype": "text/x-python",
   "name": "python",
   "nbconvert_exporter": "python",
   "pygments_lexer": "ipython3",
   "version": "3.7.3"
  }
 },
 "nbformat": 4,
 "nbformat_minor": 2
}
