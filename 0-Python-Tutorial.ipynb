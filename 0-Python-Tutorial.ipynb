{
 "cells": [
  {
   "cell_type": "markdown",
   "metadata": {},
   "source": [
    "# Python Tutorial\n",
    "\n",
    "In this tutorial we'll walk through the basics of python programming and see a little of some useful libraries to use when working with simple machine learninig tasks.\n",
    "\n",
    "## Schedule\n",
    "  1. Why Python?\n",
    "  2. Installation\n",
    "  3. Language paradigm and syntax\n",
    "  4. Types\n",
    "  5. numpy\n",
    "  6. matplotlib\n",
    "  7. pandas\n",
    "  8. scikit-learn"
   ]
  },
  {
   "cell_type": "markdown",
   "metadata": {},
   "source": [
    "## Why Python?\n",
    "\n",
    "Python is a dynamically typed language with a very intuitive syntax, easy to install packages, run in multiple platforms, its is a mature and stable laguage and has a rich community and package ecosystem.\n",
    "However, Python also has a few drawbacks, like its efficiency and the existence of two stable and incompatible branches. \n",
    "The main point to use Python instead of other languages, like C or Fortran, is to optimize the time you spend coding, so simple one-shot tasks, data exploration and visualizations are the best use cases for Python. When dealing with tasks that require more computational efficiency, you should use other languange.\n",
    "\n",
    "That said, the Python package ecosystem has a lot of very good packages to deal with heavy number crunching problems and the easy of use can make up for the language ineficiency in many situations, which makes Python a great language to learn even to deal with heavy numerical tasks."
   ]
  },
  {
   "cell_type": "markdown",
   "metadata": {},
   "source": [
    "## Installation\n",
    "\n",
    "There is many ways to install Python and any of its registered packages onall major systems (Windows, MacOs and Linux). It is possible that your system already has Python installed and ready to use. \n",
    "However, the simplest way to install and use Python, speacially for this tutorial is to go to the [Anaconda download section](https://www.anaconda.com/distribution/#download-section) and download the **Python 3.7** installer for your system.\n",
    "The advantage of using the Anaconda distribuition is to have all the packages that we are going to use, all installed at user level and working the same regardless of the system."
   ]
  },
  {
   "cell_type": "markdown",
   "metadata": {},
   "source": [
    "## Laguage Paradigm and syntax\n",
    "\n",
    "Python is a *Object-Oriented Language*, meaning that constructs carry the knowledge of how to deal with itselves. \n",
    "For instance, `\"foo\"` is a string  in Python, and we expect to be able to concatenate strings, so `\"foo\"`, `\"bar\"`, and all other have have in their implementation a method to concatenate with another string:"
   ]
  },
  {
   "cell_type": "code",
   "execution_count": 56,
   "metadata": {},
   "outputs": [
    {
     "data": {
      "text/plain": [
       "('foobar', 'foobar')"
      ]
     },
     "execution_count": 56,
     "metadata": {},
     "output_type": "execute_result"
    }
   ],
   "source": [
    "\"foo\" + \"bar\", \"foo\".__add__(\"bar\")"
   ]
  },
  {
   "cell_type": "markdown",
   "metadata": {},
   "source": [
    "Notice that string concatanation can be done with `+`, but there is a method in the object `\"foo\"` that is called when one uses the plus sign. This is the general idea in Python, every syntax element is associated with a method for the object (or its type) and that how the object \"knows\" how to deal with itself.\n",
    "The idea in Python is that **Everything is an Object** (except for laguage syntax itself), so we can always discover how to use any object by looking at its attributes and methods interactively and every aspect of the language can be extended for user types."
   ]
  },
  {
   "cell_type": "markdown",
   "metadata": {},
   "source": [
    "### Variables\n",
    "\n",
    "The most basic element of programming is to assign a name to an object for later reference.\n",
    "To assign variables in Python, just write a valid variable name followed by `=` and then by its value: "
   ]
  },
  {
   "cell_type": "code",
   "execution_count": 58,
   "metadata": {},
   "outputs": [],
   "source": [
    "foo_aba12_cux = 1.2890723"
   ]
  },
  {
   "cell_type": "markdown",
   "metadata": {},
   "source": [
    "we can ask the type of the variable"
   ]
  },
  {
   "cell_type": "code",
   "execution_count": 59,
   "metadata": {},
   "outputs": [
    {
     "data": {
      "text/plain": [
       "float"
      ]
     },
     "execution_count": 59,
     "metadata": {},
     "output_type": "execute_result"
    }
   ],
   "source": [
    "type(foo_aba12_cux)"
   ]
  },
  {
   "cell_type": "markdown",
   "metadata": {},
   "source": [
    "but we can change its value at will"
   ]
  },
  {
   "cell_type": "code",
   "execution_count": 60,
   "metadata": {},
   "outputs": [],
   "source": [
    "foo_aba12_cux = \"norf\""
   ]
  },
  {
   "cell_type": "code",
   "execution_count": 61,
   "metadata": {},
   "outputs": [
    {
     "data": {
      "text/plain": [
       "str"
      ]
     },
     "execution_count": 61,
     "metadata": {},
     "output_type": "execute_result"
    }
   ],
   "source": [
    "type(foo_aba12_cux)"
   ]
  },
  {
   "cell_type": "markdown",
   "metadata": {},
   "source": [
    "This shows what means to be dynamically typed: variables don't have type, they are just names to some object which has a type.\n",
    "Being dynamically typed has advantages and disavantages, but mainly it makes it easier to test ideas.\n",
    "\n",
    "Back to variables, valid names for variables have the following rules:\n",
    "  - characters ASCII: a-zA-z\n",
    "  - digits: 0-9, except as the first character\n",
    "  - underscores: _\n",
    "  - unicode characters: β,ç,á,ô... (starting from Python 3.5)\n",
    "  - can't be a reserved word\n",
    "  \n",
    "When coding in the Jupyter Notebook or in the Ipython repl, a good way to see if the variable name is valid is to rely on the syntax highlighting:\n",
    "\n",
    "```python\n",
    "foo = 1\n",
    "@qux\n",
    "def bar(x):\n",
    "    for i in range(10):\n",
    "        print(i)\n",
    "    return\n",
    "print(2 + 3)\n",
    "print(\"foo!\")\n",
    "```\n",
    "\n",
    "Notice how the syntactic elements are collored differently. The bold green ones are reserved words, the pink ones are operators. The others can be names, but notice that builtin functions are green, so if we assign something to the green names we \"break\" the language regular behavior"
   ]
  },
  {
   "cell_type": "code",
   "execution_count": 62,
   "metadata": {},
   "outputs": [
    {
     "ename": "SyntaxError",
     "evalue": "invalid syntax (<ipython-input-62-09f57f03a914>, line 1)",
     "output_type": "error",
     "traceback": [
      "\u001b[0;36m  File \u001b[0;32m\"<ipython-input-62-09f57f03a914>\"\u001b[0;36m, line \u001b[0;32m1\u001b[0m\n\u001b[0;31m    def = 1\u001b[0m\n\u001b[0m        ^\u001b[0m\n\u001b[0;31mSyntaxError\u001b[0m\u001b[0;31m:\u001b[0m invalid syntax\n"
     ]
    }
   ],
   "source": [
    "def = 1"
   ]
  },
  {
   "cell_type": "code",
   "execution_count": 63,
   "metadata": {},
   "outputs": [
    {
     "ename": "SyntaxError",
     "evalue": "can't assign to operator (<ipython-input-63-5408f0c5a712>, line 1)",
     "output_type": "error",
     "traceback": [
      "\u001b[0;36m  File \u001b[0;32m\"<ipython-input-63-5408f0c5a712>\"\u001b[0;36m, line \u001b[0;32m1\u001b[0m\n\u001b[0;31m    foo_bar+qux = \"foo\"\u001b[0m\n\u001b[0m                       ^\u001b[0m\n\u001b[0;31mSyntaxError\u001b[0m\u001b[0;31m:\u001b[0m can't assign to operator\n"
     ]
    }
   ],
   "source": [
    "foo_bar+qux = \"foo\""
   ]
  },
  {
   "cell_type": "code",
   "execution_count": 64,
   "metadata": {},
   "outputs": [],
   "source": [
    "foobar_123 = \"good\""
   ]
  },
  {
   "cell_type": "code",
   "execution_count": null,
   "metadata": {},
   "outputs": [],
   "source": [
    "old_print = print\n",
    "print = 2.0\n",
    "\n",
    "print"
   ]
  },
  {
   "cell_type": "code",
   "execution_count": null,
   "metadata": {},
   "outputs": [],
   "source": [
    "print(\"foo\")"
   ]
  },
  {
   "cell_type": "code",
   "execution_count": null,
   "metadata": {},
   "outputs": [],
   "source": [
    "old_print(\"foo\")"
   ]
  },
  {
   "cell_type": "code",
   "execution_count": null,
   "metadata": {},
   "outputs": [],
   "source": [
    "print = old_print"
   ]
  },
  {
   "cell_type": "code",
   "execution_count": null,
   "metadata": {},
   "outputs": [],
   "source": [
    "print(\"foo\")"
   ]
  },
  {
   "cell_type": "markdown",
   "metadata": {},
   "source": [
    "In Python we can assign multiple variables in many weird ways at once:"
   ]
  },
  {
   "cell_type": "code",
   "execution_count": 66,
   "metadata": {},
   "outputs": [
    {
     "name": "stdout",
     "output_type": "stream",
     "text": [
      "1 2 3 4 7 8 9 10 12 13\n"
     ]
    }
   ],
   "source": [
    "a = 1 \n",
    "\n",
    "# \"Destructions\"\n",
    "\n",
    "b,c,d = variable = 2,3,4  \n",
    "\n",
    "e, _, f = [5,6,7]\n",
    "\n",
    "(g,h),(i,(_,j),k) = {(8,9),(10,(11,12),13)}\n",
    "\n",
    "print(a,b,c,d,f,g,h,i,j,k)"
   ]
  },
  {
   "cell_type": "markdown",
   "metadata": {},
   "source": [
    "This is very useful when chaining functions or running throuhg complex data structures in loops."
   ]
  },
  {
   "cell_type": "markdown",
   "metadata": {},
   "source": [
    "### Control flow\n",
    "\n",
    "The basic control flow structures in Python are:\n",
    "\n",
    "The `if` block:\n",
    "```python\n",
    "if condition == True:\n",
    "    true_statement1()\n",
    "    true_statement2 \n",
    "    ...\n",
    "elif other_condition is False:\n",
    "    elif_statement1\n",
    "    elif_statement2\n",
    "    ...\n",
    "else\n",
    "    catch_all_statement1\n",
    "    catch_all_statement2\n",
    "    ...\n",
    "  \n",
    "out_of_if_block_statement1\n",
    "...\n",
    "\n",
    "```\n",
    "\n",
    "For example:"
   ]
  },
  {
   "cell_type": "code",
   "execution_count": null,
   "metadata": {},
   "outputs": [],
   "source": [
    "my_control_var = \"ok\"\n",
    "\n",
    "if type(my_control_var) is float:\n",
    "    print(f\"Its a float. It has half the value {2*my_control_var}\")\n",
    "elif my_control_var == True:\n",
    "    print(\"Its true\")\n",
    "elif my_control_var in \"ok, mate\":\n",
    "    print(\"Found it in 'ok, mate'\")\n",
    "    new_value = ', '.join(3*[my_control_var])\n",
    "    print(new_value)\n",
    "else:\n",
    "    print(\"I don't know...\")\n"
   ]
  },
  {
   "cell_type": "markdown",
   "metadata": {},
   "source": [
    "The `for` loop:\n",
    "```python\n",
    "for value in container:\n",
    "    do_stuff1\n",
    "    do_stuff2\n",
    "    ...\n",
    "    \n",
    "out_of_for_loop_statement1\n",
    "...\n",
    "```\n",
    "For example:"
   ]
  },
  {
   "cell_type": "code",
   "execution_count": null,
   "metadata": {},
   "outputs": [],
   "source": [
    "my_awesome_list = [10,9,8,7,6,5,4,3,2,1]\n",
    "for num in my_awesome_list:\n",
    "    print(f\"The current number is {num}\")"
   ]
  },
  {
   "cell_type": "markdown",
   "metadata": {},
   "source": [
    "There are other control flow structures in Python, like `while` loops, `with` and `try-catch` blocks, but the `if` block and `for` loops are enough to do 99% of the task you will ever encounter.\n",
    "\n",
    "Related to control flow structures is the syntax to build containers descriptively.\n",
    "For instance, we could build a list as:"
   ]
  },
  {
   "cell_type": "code",
   "execution_count": null,
   "metadata": {},
   "outputs": [],
   "source": [
    "my_for_loop_list = []\n",
    "\n",
    "for i in range(10):\n",
    "    value_to_put_in_list = (10*i + 2, -3*i/4)\n",
    "    my_for_loop_list.append(value_to_put_in_list)\n",
    "    \n",
    "my_for_loop_list"
   ]
  },
  {
   "cell_type": "markdown",
   "metadata": {},
   "source": [
    "or in a shorter equivalent way:"
   ]
  },
  {
   "cell_type": "code",
   "execution_count": null,
   "metadata": {},
   "outputs": [],
   "source": [
    "my_descriptive_list = [(10*i+2,-3*i/4) for i in range(10)]\n",
    "my_descriptive_list"
   ]
  },
  {
   "cell_type": "markdown",
   "metadata": {},
   "source": [
    "We can even add conditions in the list comprehension:"
   ]
  },
  {
   "cell_type": "code",
   "execution_count": null,
   "metadata": {},
   "outputs": [],
   "source": [
    "my_descriptive_list = [(10*i+2,-3*i/4) for i in range(10) if i%2==0]\n",
    "my_descriptive_list"
   ]
  },
  {
   "cell_type": "markdown",
   "metadata": {},
   "source": [
    "This syntactic perk can be used to build any container type in Python: lists, tuples, sets, dictionaries and even user types that implement the container protocol."
   ]
  },
  {
   "cell_type": "markdown",
   "metadata": {},
   "source": [
    "### Functions\n",
    "\n",
    "The simplest way to build programs is to encapsulate simple reuseble procedures in functions. \n",
    "To create a function in Python we use the following syntax:\n",
    "\n",
    "```python\n",
    "def function_name(var1, v2, ..., *args, kwarg1=kwarg1_val, ..., **kwargs):\n",
    "    do_stuff1\n",
    "    do_stuff2\n",
    "    ...\n",
    "    return maybe_something\n",
    "```\n",
    "\n",
    "For instance:"
   ]
  },
  {
   "cell_type": "code",
   "execution_count": null,
   "metadata": {},
   "outputs": [],
   "source": [
    "def my_complex_procedure(a,b):\n",
    "    c = (a+b)*10/b + a*(b-10)\n",
    "    return (a,b,c)\n",
    "\n",
    "def my_result(a0,b0,n=10,*args,printit=False):\n",
    "    a,b = a0,b0\n",
    "    for i in range(n):\n",
    "        _,a,b = my_complex_procedure(a,b)\n",
    "    if printit:\n",
    "        print(f\"a={a}, b={b}\")\n",
    "    return {(a0,b0):(a,b)}"
   ]
  },
  {
   "cell_type": "code",
   "execution_count": null,
   "metadata": {},
   "outputs": [],
   "source": [
    "my_result(1,1,5,printit=True)"
   ]
  },
  {
   "cell_type": "markdown",
   "metadata": {},
   "source": [
    "Functions in Python are *First Class Citzens*, meaning they are valid values to assign to variables and to be returned as values. They can even be \"created\" without names with the `lambda` syntax:"
   ]
  },
  {
   "cell_type": "code",
   "execution_count": null,
   "metadata": {},
   "outputs": [],
   "source": [
    "for function in [lambda x: x, lambda x: 2*x - 3, lambda x: sum([1.0,x,x**2/2,x**3/6])]:\n",
    "    print(f\"The value of this function at x=0.0 is\\n\\tf(x=0)={function(0.0)}\") "
   ]
  },
  {
   "cell_type": "markdown",
   "metadata": {},
   "source": [
    "## Types\n",
    "\n",
    "Since anything in Python is an object, numbers are objects, booleans are objects, functions are objects and types are objects as well.\n",
    "This means that the only real type in python is `object` (this is not quite true, but is very close).\n",
    "That said, the best way to think about python types is regarding if they are a container or not.\n",
    "We can think of numbers `int`, `float`, `complex`, `bool` and some variations of `str` as *atomic* types, i.e. non containers.\n",
    "On the other hand, `list`, `tuple`, `dict`, `set`, `str` are containers.\n",
    "\n",
    "The main difference is that non container types are always immutable. This means that operations that would modify the value create a new value in memory. Some container types can be modified in place.\n",
    "Also, containers can be visited and iterated over, while atoms can't.\n",
    "\n",
    "Let's briefly see some of the ways to construct and operate on the most basic Python types"
   ]
  },
  {
   "cell_type": "markdown",
   "metadata": {},
   "source": [
    "### Numbers\n",
    "\n",
    "In Python we can directly a few numeric types:"
   ]
  },
  {
   "cell_type": "code",
   "execution_count": 67,
   "metadata": {},
   "outputs": [],
   "source": [
    "# int\n",
    "a, b = 1, 10\n",
    "\n",
    "# float\n",
    "pi, e = 3.141526, 2.718281\n",
    "\n",
    "# complex\n",
    "c = 1.5 + 9j\n",
    "\n",
    "# hexadecimal, binary\n",
    "m, n = 0x123, 0b1010 "
   ]
  },
  {
   "cell_type": "markdown",
   "metadata": {},
   "source": [
    "All numeric types can be summed, multiplied, diveded, take the mod and div os integer division among other common numeric operations"
   ]
  },
  {
   "cell_type": "code",
   "execution_count": null,
   "metadata": {},
   "outputs": [],
   "source": [
    "a+ b,"
   ]
  },
  {
   "cell_type": "code",
   "execution_count": 72,
   "metadata": {},
   "outputs": [
    {
     "data": {
      "text/plain": [
       "8.539550436806"
      ]
     },
     "execution_count": 72,
     "metadata": {},
     "output_type": "execute_result"
    }
   ],
   "source": [
    " pi*e"
   ]
  },
  {
   "cell_type": "code",
   "execution_count": 73,
   "metadata": {},
   "outputs": [
    {
     "data": {
      "text/plain": [
       "(-4.102743315607494,)"
      ]
     },
     "execution_count": 73,
     "metadata": {},
     "output_type": "execute_result"
    }
   ],
   "source": [
    "(a*pi - b*e)/(pi + e),"
   ]
  },
  {
   "cell_type": "code",
   "execution_count": 75,
   "metadata": {},
   "outputs": [
    {
     "data": {
      "text/plain": [
       "1"
      ]
     },
     "execution_count": 75,
     "metadata": {},
     "output_type": "execute_result"
    }
   ],
   "source": [
    "9 % 2"
   ]
  },
  {
   "cell_type": "code",
   "execution_count": 76,
   "metadata": {},
   "outputs": [
    {
     "data": {
      "text/plain": [
       "(1, 5, 5.5, 16, 2910)"
      ]
     },
     "execution_count": 76,
     "metadata": {},
     "output_type": "execute_result"
    }
   ],
   "source": [
    " 11 % 2, 11 // 2, 11 / 2, 2**4, m*n"
   ]
  },
  {
   "cell_type": "markdown",
   "metadata": {},
   "source": [
    "some functions have intuitive names"
   ]
  },
  {
   "cell_type": "code",
   "execution_count": 77,
   "metadata": {},
   "outputs": [
    {
     "data": {
      "text/plain": [
       "(2, 1, 3.141526)"
      ]
     },
     "execution_count": 77,
     "metadata": {},
     "output_type": "execute_result"
    }
   ],
   "source": [
    "max(1,2), min(1,2), abs(-pi)"
   ]
  },
  {
   "cell_type": "markdown",
   "metadata": {},
   "source": [
    "### Exercise\n",
    "\n",
    "Calculate the sum of three seqential numbers starting from 45 and incremented by 7."
   ]
  },
  {
   "cell_type": "code",
   "execution_count": 81,
   "metadata": {},
   "outputs": [
    {
     "data": {
      "text/plain": [
       "156"
      ]
     },
     "execution_count": 81,
     "metadata": {},
     "output_type": "execute_result"
    }
   ],
   "source": [
    "first_one = 45\n",
    "second_one = first_one + 7\n",
    "third_on = second_one + 7\n",
    "\n",
    "first_one + second_one + third_on"
   ]
  },
  {
   "cell_type": "code",
   "execution_count": null,
   "metadata": {},
   "outputs": [],
   "source": []
  },
  {
   "cell_type": "code",
   "execution_count": null,
   "metadata": {},
   "outputs": [],
   "source": []
  },
  {
   "cell_type": "code",
   "execution_count": null,
   "metadata": {},
   "outputs": [],
   "source": []
  },
  {
   "cell_type": "markdown",
   "metadata": {},
   "source": [
    "### Booleans\n",
    "\n",
    "Booleans in Python are `True` and `False` and have type `bool`. However, many things are *logically* equivalent to a boolean, which is only relevant to short circuit if conditions or logical operators. One thing to have in mind when using python is that `None` is also an object, representing the absence of value and `None` is logically equivalent to `False`. For instance:"
   ]
  },
  {
   "cell_type": "code",
   "execution_count": 82,
   "metadata": {},
   "outputs": [
    {
     "data": {
      "text/plain": [
       "(True, False)"
      ]
     },
     "execution_count": 82,
     "metadata": {},
     "output_type": "execute_result"
    }
   ],
   "source": [
    "True, False"
   ]
  },
  {
   "cell_type": "code",
   "execution_count": 85,
   "metadata": {},
   "outputs": [
    {
     "data": {
      "text/plain": [
       "(False, True)"
      ]
     },
     "execution_count": 85,
     "metadata": {},
     "output_type": "execute_result"
    }
   ],
   "source": [
    "1 > 10, \"o\" in \"afternoon\""
   ]
  },
  {
   "cell_type": "code",
   "execution_count": 86,
   "metadata": {},
   "outputs": [
    {
     "name": "stdout",
     "output_type": "stream",
     "text": [
      "10\n",
      "<class 'NoneType'> None\n"
     ]
    }
   ],
   "source": [
    "val_of_print = print(\"10\")\n",
    "print(type(val_of_print), val_of_print)"
   ]
  },
  {
   "cell_type": "code",
   "execution_count": 89,
   "metadata": {},
   "outputs": [
    {
     "name": "stdout",
     "output_type": "stream",
     "text": [
      "WOW!\n"
     ]
    }
   ],
   "source": [
    "if 1 < 10:\n",
    "    print(\"WOW!\")\n",
    "else:\n",
    "    print(\"I knew it\")"
   ]
  },
  {
   "cell_type": "code",
   "execution_count": 87,
   "metadata": {},
   "outputs": [
    {
     "name": "stdout",
     "output_type": "stream",
     "text": [
      "Won't print next statement\n"
     ]
    }
   ],
   "source": [
    "if print(\"Won't print next statement\"):\n",
    "    print(\"This is a lie\")"
   ]
  },
  {
   "cell_type": "markdown",
   "metadata": {},
   "source": [
    "Other values that can be thought as *empity* or *zero* are also equivalent to `False`"
   ]
  },
  {
   "cell_type": "code",
   "execution_count": 96,
   "metadata": {},
   "outputs": [
    {
     "name": "stdout",
     "output_type": "stream",
     "text": [
      "Foo\n"
     ]
    },
    {
     "data": {
      "text/plain": [
       "NoneType"
      ]
     },
     "execution_count": 96,
     "metadata": {},
     "output_type": "execute_result"
    }
   ],
   "source": [
    "type(print(\"Foo\"))"
   ]
  },
  {
   "cell_type": "code",
   "execution_count": 102,
   "metadata": {},
   "outputs": [],
   "source": [
    "falsy_values = [[],0,None,\"\",(),set(),{}]\n",
    "for v in falsy_values:\n",
    "    if v:\n",
    "        print(f\"This is not falsy: {v}\")"
   ]
  },
  {
   "cell_type": "markdown",
   "metadata": {},
   "source": [
    "Any value that is *\"not empty or zero\"* is equivalent to `True`"
   ]
  },
  {
   "cell_type": "code",
   "execution_count": 103,
   "metadata": {},
   "outputs": [
    {
     "name": "stdout",
     "output_type": "stream",
     "text": [
      "This is truthy: [0]\n",
      "This is truthy: 0\n",
      "This is truthy: 1e-07\n",
      "This is truthy: 1\n",
      "This is truthy: -3.1415926\n"
     ]
    }
   ],
   "source": [
    "truthy_values = [[0], \"0\", 0.0000001, 1, -3.1415926]\n",
    "for v in truthy_values:\n",
    "    if v:\n",
    "        print(f\"This is truthy: {v}\")"
   ]
  },
  {
   "cell_type": "markdown",
   "metadata": {},
   "source": [
    "We can perform the common logic operations on `bool`s"
   ]
  },
  {
   "cell_type": "code",
   "execution_count": null,
   "metadata": {},
   "outputs": [],
   "source": [
    "# not\n",
    "print(\"not A\")\n",
    "print(f\"not True |\\t{not True}\")\n",
    "print(f\"not False|\\t{not False}\")\n",
    "\n",
    "# and \n",
    "print(\"\\n\")\n",
    "print(\"A and B\")\n",
    "print(\"A\\\\B\\tTrue |\\tFalse\\n----------------------\")\n",
    "print(f\"True |\\t{True and True} |\\t{True and False}\")\n",
    "print(f\"False|\\t{False and True}|\\t{False and False}\")\n",
    "\n",
    "# or\n",
    "print(\"\\n\")\n",
    "print(\"A or B\")\n",
    "print(\"A\\\\B\\tTrue |\\tFalse\\n----------------------\")\n",
    "print(f\"True |\\t{True or True} |\\t{True or False}\")\n",
    "print(f\"False|\\t{False or True} |\\t{False or False}\")"
   ]
  },
  {
   "cell_type": "markdown",
   "metadata": {},
   "source": [
    "There is also the *bitwise* logicall operations"
   ]
  },
  {
   "cell_type": "code",
   "execution_count": null,
   "metadata": {},
   "outputs": [],
   "source": [
    "# bitwise and\n",
    "print(True & True, True & False, False & False)\n",
    "\n",
    "# bitwise or\n",
    "print(True | True, True | False, False | False)\n",
    "\n",
    "# bitwise complement (not exactly the `not` operation). negates each bit\n",
    "print(~True, ~False)\n",
    "\n",
    "#bitwise xor\n",
    "print(True ^ True, True ^ False, False ^ False)"
   ]
  },
  {
   "cell_type": "markdown",
   "metadata": {},
   "source": [
    "We can combine the concepts of falsy and truthy to short cirtuit operations"
   ]
  },
  {
   "cell_type": "code",
   "execution_count": null,
   "metadata": {},
   "outputs": [],
   "source": [
    "1 > 2 and print(\"ops\")"
   ]
  },
  {
   "cell_type": "code",
   "execution_count": null,
   "metadata": {},
   "outputs": [],
   "source": [
    "1 < 2 and print(\"alright\")"
   ]
  },
  {
   "cell_type": "code",
   "execution_count": null,
   "metadata": {},
   "outputs": [],
   "source": [
    "1 < 2 or print(\"alright again\")"
   ]
  },
  {
   "cell_type": "code",
   "execution_count": null,
   "metadata": {},
   "outputs": [],
   "source": [
    "1 > 2 or print(\"ops\")"
   ]
  },
  {
   "cell_type": "markdown",
   "metadata": {},
   "source": [
    "We can see that the common comparisson operators also have intuitive notation"
   ]
  },
  {
   "cell_type": "code",
   "execution_count": null,
   "metadata": {},
   "outputs": [],
   "source": [
    "1 < 2, 1 <= 2, 1 > 2, 1 >= 2, 1 == 2, 1 != 2"
   ]
  },
  {
   "cell_type": "markdown",
   "metadata": {},
   "source": [
    "### Container types\n",
    "\n",
    "Container types are, as the name suggests, structured \"bags\" of objects. The most useful in Python is the list:"
   ]
  },
  {
   "cell_type": "code",
   "execution_count": null,
   "metadata": {},
   "outputs": [],
   "source": [
    "a = []\n",
    "\n",
    "b = [1,2,3,4]\n",
    "\n",
    "c = [[1,2],3,(4,5),{6:[(7,[8,9]),10]}]"
   ]
  },
  {
   "cell_type": "markdown",
   "metadata": {},
   "source": [
    "Things we can do with a list:\n",
    "  1. append\n",
    "  2. copy\n",
    "  3. clear\n",
    "  4. count\n",
    "  5. extend\n",
    "  6. index\n",
    "  7. insert\n",
    "  8. pop\n",
    "  9. remove\n",
    "  10. reverse\n",
    "  11. sort\n",
    "  \n",
    "The names do what they sugest, and we can always find what an object can do by creating a variable with a value of that type and using the tab-complete strategy: open a new cell, type the variable name followed by a `.` and hit tab. A list of attributes and methods will show in the notebook and we can figure what to do with that type of object. For instance, try hitting tab in the next cell:"
   ]
  },
  {
   "cell_type": "code",
   "execution_count": null,
   "metadata": {},
   "outputs": [],
   "source": [
    "a."
   ]
  },
  {
   "cell_type": "markdown",
   "metadata": {},
   "source": [
    "Let use a few of these methods"
   ]
  },
  {
   "cell_type": "code",
   "execution_count": null,
   "metadata": {},
   "outputs": [],
   "source": [
    "a = []\n",
    "a.append(1)\n",
    "a.append(3)\n",
    "a.append(1)\n",
    "a"
   ]
  },
  {
   "cell_type": "code",
   "execution_count": null,
   "metadata": {},
   "outputs": [],
   "source": [
    "a.count(1)"
   ]
  },
  {
   "cell_type": "code",
   "execution_count": null,
   "metadata": {},
   "outputs": [],
   "source": [
    "a.extend((2,4,6))\n",
    "a"
   ]
  },
  {
   "cell_type": "code",
   "execution_count": null,
   "metadata": {},
   "outputs": [],
   "source": [
    "a.index(1), a.pop(0), a.index(1), a"
   ]
  },
  {
   "cell_type": "code",
   "execution_count": null,
   "metadata": {},
   "outputs": [],
   "source": [
    "a"
   ]
  },
  {
   "cell_type": "markdown",
   "metadata": {},
   "source": [
    "We can also get the value at a given index as follows"
   ]
  },
  {
   "cell_type": "code",
   "execution_count": null,
   "metadata": {},
   "outputs": [],
   "source": [
    "a[0]"
   ]
  },
  {
   "cell_type": "code",
   "execution_count": null,
   "metadata": {},
   "outputs": [],
   "source": [
    "a[1]"
   ]
  },
  {
   "cell_type": "code",
   "execution_count": null,
   "metadata": {},
   "outputs": [],
   "source": [
    "a[-1]"
   ]
  },
  {
   "cell_type": "markdown",
   "metadata": {},
   "source": [
    "Notice that indexing like this does not destroy the list"
   ]
  },
  {
   "cell_type": "code",
   "execution_count": null,
   "metadata": {},
   "outputs": [],
   "source": [
    "a"
   ]
  },
  {
   "cell_type": "markdown",
   "metadata": {},
   "source": [
    "One thing to have in mind with lists is that they are muttable and passed by reference to functions. This can lead to mistakes if the list is modified from one function call to another.\n",
    "To avoid mutability in Python, use `tuple`."
   ]
  },
  {
   "cell_type": "code",
   "execution_count": null,
   "metadata": {},
   "outputs": [],
   "source": [
    "a[0] = 10000000"
   ]
  },
  {
   "cell_type": "code",
   "execution_count": null,
   "metadata": {},
   "outputs": [],
   "source": [
    "a"
   ]
  },
  {
   "cell_type": "markdown",
   "metadata": {},
   "source": [
    "We can also do some algebra with lists: `+` is like the extend method and `*` is copy and extend with the copies"
   ]
  },
  {
   "cell_type": "code",
   "execution_count": null,
   "metadata": {},
   "outputs": [],
   "source": [
    "[1] + [\"foo\"]"
   ]
  },
  {
   "cell_type": "code",
   "execution_count": null,
   "metadata": {},
   "outputs": [],
   "source": [
    "[2,3]*3"
   ]
  },
  {
   "cell_type": "markdown",
   "metadata": {},
   "source": [
    "### Tuples\n",
    "\n",
    "Tuples are like lists, but once created can't be modified inplace"
   ]
  },
  {
   "cell_type": "code",
   "execution_count": null,
   "metadata": {},
   "outputs": [],
   "source": [
    "a = ()\n",
    "\n",
    "b = (1,2,3,4)\n",
    "\n",
    "c = (1,(2,3),[4,{5:6}])"
   ]
  },
  {
   "cell_type": "code",
   "execution_count": null,
   "metadata": {},
   "outputs": [],
   "source": [
    "c[1]"
   ]
  },
  {
   "cell_type": "code",
   "execution_count": null,
   "metadata": {},
   "outputs": [],
   "source": [
    "c[1] = \"foo\""
   ]
  },
  {
   "cell_type": "markdown",
   "metadata": {},
   "source": [
    "Other than the immutabuility, tuples are very similar to lists. We can sum tuples and multiply"
   ]
  },
  {
   "cell_type": "code",
   "execution_count": null,
   "metadata": {},
   "outputs": [],
   "source": [
    "(1,2) + (3,4)"
   ]
  },
  {
   "cell_type": "code",
   "execution_count": null,
   "metadata": {},
   "outputs": [],
   "source": [
    "(1,2)*3"
   ]
  },
  {
   "cell_type": "markdown",
   "metadata": {},
   "source": [
    "Lists and tuples have a \"glob\" syntax for function calls or list/tuple concatenation"
   ]
  },
  {
   "cell_type": "code",
   "execution_count": null,
   "metadata": {},
   "outputs": [],
   "source": [
    "a = [1,2]\n",
    "b = (3,4)\n",
    "[*a, *b]"
   ]
  },
  {
   "cell_type": "code",
   "execution_count": null,
   "metadata": {},
   "outputs": [],
   "source": [
    "def print_args(*args):\n",
    "    print(\"args is a tuple\")\n",
    "    print(f\"See it as a tuple: {args}\")\n",
    "    print(\"Or see each element:\")\n",
    "    for e in args:\n",
    "        print(f\"{e}\")\n",
    "        \n",
    "print_args(1,\"foo\",{'A':'AAA'},*('2',(2,3)))"
   ]
  },
  {
   "cell_type": "markdown",
   "metadata": {},
   "source": [
    "### Dicts\n",
    "\n",
    "Dicts lists of key-value pairs. They are muttable, but for a value to be a valid key it must be \"hashble\""
   ]
  },
  {
   "cell_type": "code",
   "execution_count": null,
   "metadata": {},
   "outputs": [],
   "source": [
    "a = {}\n",
    "\n",
    "b = {'1':1, (1,):1, 1:1}\n",
    "bb = {[1]:1}"
   ]
  },
  {
   "cell_type": "markdown",
   "metadata": {},
   "source": [
    "We can access dict values by their keys"
   ]
  },
  {
   "cell_type": "code",
   "execution_count": null,
   "metadata": {},
   "outputs": [],
   "source": [
    "b['1'], b[(1,)], b[1]"
   ]
  },
  {
   "cell_type": "markdown",
   "metadata": {},
   "source": [
    "and we can modify or insert new key-value pairs"
   ]
  },
  {
   "cell_type": "code",
   "execution_count": null,
   "metadata": {},
   "outputs": [],
   "source": [
    "b['1'] = \"one\"\n",
    "b[2] = 0b10"
   ]
  },
  {
   "cell_type": "code",
   "execution_count": null,
   "metadata": {},
   "outputs": [],
   "source": [
    "b"
   ]
  },
  {
   "cell_type": "markdown",
   "metadata": {},
   "source": [
    "Dicts are the most useful data structure in Python, they form the basis for the language type system and are veyr flexible. We can see the methods a dict provide by using the autocompletion trick:"
   ]
  },
  {
   "cell_type": "code",
   "execution_count": null,
   "metadata": {},
   "outputs": [],
   "source": [
    "# run this cell\n",
    "d = {'a':1}"
   ]
  },
  {
   "cell_type": "code",
   "execution_count": null,
   "metadata": {},
   "outputs": [],
   "source": [
    "# press tab to see the methods\n",
    "d."
   ]
  },
  {
   "cell_type": "markdown",
   "metadata": {},
   "source": [
    "The most useful methods for dict are `get`, `keys`, `values` and `items`. Also, there is a \"glob\" syntax for dicts to expand its items within function calls or for concatenating dicts:"
   ]
  },
  {
   "cell_type": "code",
   "execution_count": null,
   "metadata": {},
   "outputs": [],
   "source": [
    "def print_kwargs(**kwargs):\n",
    "    print(\"kwargs is a dict:\")\n",
    "    print(f\"See it as a dict: {kwargs}\")\n",
    "    print(\"\\nOr see each item\")\n",
    "    for (k,v) in kwargs.items():\n",
    "        print(f\"{k}: {v}\")\n",
    "\n",
    "print_kwargs(a=1,b=2,**{'c':3,'d':4})"
   ]
  },
  {
   "cell_type": "code",
   "execution_count": null,
   "metadata": {},
   "outputs": [],
   "source": [
    "a = {'a':1}\n",
    "b = {'b':2}\n",
    "c = {**a, **b}\n",
    "c"
   ]
  },
  {
   "cell_type": "markdown",
   "metadata": {},
   "source": [
    "### Strings\n",
    "\n",
    "Strings are containers of character, although there is no char type in Python."
   ]
  },
  {
   "cell_type": "code",
   "execution_count": null,
   "metadata": {},
   "outputs": [],
   "source": [
    "string1 = \"foo\"\n",
    "string2 = \"bar\"\n",
    "\n",
    "string1 + string2"
   ]
  },
  {
   "cell_type": "code",
   "execution_count": null,
   "metadata": {},
   "outputs": [],
   "source": [
    "string1[0]"
   ]
  },
  {
   "cell_type": "markdown",
   "metadata": {},
   "source": [
    "There is a lot of things we can do with strings, just use the autocomplete trick to find out"
   ]
  },
  {
   "cell_type": "code",
   "execution_count": null,
   "metadata": {},
   "outputs": [],
   "source": [
    "# press tab after the dot\n",
    "string1."
   ]
  },
  {
   "cell_type": "markdown",
   "metadata": {},
   "source": [
    "Some of the most useful methods are the `split` and `join`"
   ]
  },
  {
   "cell_type": "code",
   "execution_count": null,
   "metadata": {},
   "outputs": [],
   "source": [
    "joint_strings = '_'.join([string1, string2])\n",
    "joint_strings"
   ]
  },
  {
   "cell_type": "code",
   "execution_count": null,
   "metadata": {},
   "outputs": [],
   "source": [
    "joint_strings.split(\"_\")"
   ]
  },
  {
   "cell_type": "markdown",
   "metadata": {},
   "source": [
    "### Looping containers\n",
    "\n",
    "All the container types in Python can be accessed by iteration"
   ]
  },
  {
   "cell_type": "code",
   "execution_count": null,
   "metadata": {},
   "outputs": [],
   "source": [
    "list_of_things = [1, \"foo\", ('pi',3.1415)]\n",
    "\n",
    "for t in list_of_things:\n",
    "    print(t)\n",
    "    \n",
    "print(\"\\n\\n\")\n",
    "tuple_of_things = (\"bar\", \"qux\", [1,2,3], {'a':'b'})\n",
    "\n",
    "for t in tuple_of_things:\n",
    "    print(t)\n",
    "    \n",
    "print(\"\\n\\n\")\n",
    "\n",
    "dict_of_things = {1:\"one\", 'a':(1,2,3,4), (\"foo\",(1,2,3)):\"iei\"}\n",
    "print(\"dict keys\")\n",
    "for t in dict_of_things:\n",
    "    print(t)\n",
    "    \n",
    "print(\"\\ndict values\")\n",
    "for t in dict_of_things.values():\n",
    "    print(t)\n",
    "    \n",
    "print(\"\\ndict items = (key,value) pairs\")\n",
    "for (k,v) in dict_of_things.items():\n",
    "    print(f\"{k}: {v}\")\n",
    "    \n",
    "print(\"\\n\\n\")\n",
    "random_string = \"This is a random piece of text\"\n",
    "\n",
    "for c in random_string:\n",
    "    print(c)"
   ]
  },
  {
   "cell_type": "markdown",
   "metadata": {},
   "source": [
    "### Checking for inclusion in containers\n",
    "\n",
    "We can query any container for the inclusion of some element"
   ]
  },
  {
   "cell_type": "code",
   "execution_count": null,
   "metadata": {},
   "outputs": [],
   "source": [
    "\"f\" in \"foo\""
   ]
  },
  {
   "cell_type": "code",
   "execution_count": null,
   "metadata": {},
   "outputs": [],
   "source": [
    "(1,2) in [\"a\", 1, 2]"
   ]
  },
  {
   "cell_type": "code",
   "execution_count": null,
   "metadata": {},
   "outputs": [],
   "source": [
    "(1,2) in [(1,2),(1,3),(4,2)]"
   ]
  },
  {
   "cell_type": "code",
   "execution_count": null,
   "metadata": {},
   "outputs": [],
   "source": [
    "('a',1) in {'a':1}.items()"
   ]
  },
  {
   "cell_type": "code",
   "execution_count": null,
   "metadata": {},
   "outputs": [],
   "source": [
    "('a',1) in {'a':1}"
   ]
  },
  {
   "cell_type": "markdown",
   "metadata": {},
   "source": [
    "###  Exercise 1\n",
    " \n",
    "Complete the following tasks:\n",
    "  1. write a function that accepts a list as input and gives back a list with the elemet `\"intruder\"` in the middle of it. Call the function with any list you want and then check if your original list is unchanged.\n",
    "  2. write a function to check if a given word is in a given string and, if positive, capitalizes it. \n",
    "  3. write the following functions for a numeric input `x`, assumed to be in a list `Xs`:\n",
    "    1. takes `x` and returns `2*x`\n",
    "    2. takes `x` and returns `x - 1`\n",
    "    3. takes `Xs` and returns a list where the elemets are divided by the sum of `Xs`.\n",
    "  4. build a list chaining the application of the functions in the item 3\n",
    "  5. use the string methods to format the string `\"a,b,c,d,e,f,g,h,i\"` so each vowel is capitalized."
   ]
  },
  {
   "cell_type": "markdown",
   "metadata": {},
   "source": [
    "## Numpy\n",
    "\n",
    "Numpy is a Python package that brings the numpy.array type into our arsenal, which is a fast homogeneous container with lots of numerical methods that increase the efficiency for numerical computations.\n",
    "Numpy arrays are somewhat like lists, somewhat like matrices."
   ]
  },
  {
   "cell_type": "code",
   "execution_count": null,
   "metadata": {},
   "outputs": [],
   "source": [
    "import numpy as np\n",
    "\n",
    "a = np.array([1.,2,3,4])\n",
    "b = np.ones(4)\n",
    "c = np.zeros(3)\n",
    "d = np.arange(0.0,1.1,0.1)\n",
    "e = np.linspace(0,1,11, endpoint=True)\n",
    "f = np.arange(0,16).reshape((4,4))\n",
    "g = np.ones((2,2,2))\n",
    "\n",
    "print(a,b,c,d,e,f,g,sep=\"\\n\\n\")"
   ]
  },
  {
   "cell_type": "markdown",
   "metadata": {},
   "source": [
    "We can do a lot of mathematical operations with arrays and most of them are element-wise, relying on a broadcasting mechanism that *\"completes\"* the smaller shape when possible:"
   ]
  },
  {
   "cell_type": "code",
   "execution_count": null,
   "metadata": {},
   "outputs": [],
   "source": [
    "a, 3*a - 1, a**2, a/2, a.max(), a.min()"
   ]
  },
  {
   "cell_type": "code",
   "execution_count": null,
   "metadata": {},
   "outputs": [],
   "source": [
    "f * a, f @ a, f.T * a, f.T @ a"
   ]
  },
  {
   "cell_type": "code",
   "execution_count": null,
   "metadata": {},
   "outputs": [],
   "source": [
    "a * c"
   ]
  },
  {
   "cell_type": "code",
   "execution_count": null,
   "metadata": {},
   "outputs": [],
   "source": [
    "a.reshape(a.shape + (1,)) * c.reshape((1,)+c.shape)"
   ]
  },
  {
   "cell_type": "markdown",
   "metadata": {},
   "source": [
    "Numpy also provides trigonometric and other common mathematical functions to deal with arrays"
   ]
  },
  {
   "cell_type": "code",
   "execution_count": null,
   "metadata": {},
   "outputs": [],
   "source": [
    "np.sin(a), np.cos(a), np.arccos(b)"
   ]
  },
  {
   "cell_type": "markdown",
   "metadata": {},
   "source": [
    "There is also functions to deal with the container aspect of arrays, like `sort`, `reshape` and many others.\n",
    "One aspect of arrays that is very useful is the fancy indexing syntax:"
   ]
  },
  {
   "cell_type": "code",
   "execution_count": null,
   "metadata": {},
   "outputs": [],
   "source": [
    "g"
   ]
  },
  {
   "cell_type": "code",
   "execution_count": null,
   "metadata": {},
   "outputs": [],
   "source": [
    "g.shape"
   ]
  },
  {
   "cell_type": "code",
   "execution_count": null,
   "metadata": {},
   "outputs": [],
   "source": [
    "g[0,1]"
   ]
  },
  {
   "cell_type": "code",
   "execution_count": null,
   "metadata": {},
   "outputs": [],
   "source": [
    "g[:,1,:]"
   ]
  },
  {
   "cell_type": "code",
   "execution_count": null,
   "metadata": {},
   "outputs": [],
   "source": [
    "g[0,...]"
   ]
  },
  {
   "cell_type": "code",
   "execution_count": null,
   "metadata": {},
   "outputs": [],
   "source": [
    "f"
   ]
  },
  {
   "cell_type": "code",
   "execution_count": null,
   "metadata": {},
   "outputs": [],
   "source": [
    "f[2:4,2:]"
   ]
  },
  {
   "cell_type": "markdown",
   "metadata": {},
   "source": [
    "## Matplotlib\n",
    "\n",
    "Matplotlib is THE standard plotting package for Python. Its provides every thing to create all sorts of visualizations, although it is quite \"low level\" and requires a lot of lines of code to make some complex plots.\n",
    "\n",
    "Its relies heavily on the object-oriented paradigm, which means that, in the end, plots are containers of objects that have displayable information and knows how to draw itself.\n",
    "\n",
    "The simplest plot we can do is by calling the `plot` function within the `pyplot` submodule of matplotlib:"
   ]
  },
  {
   "cell_type": "code",
   "execution_count": null,
   "metadata": {},
   "outputs": [],
   "source": [
    "import matplotlib.pyplot as plt\n",
    "plt.plot([1,2,3,4])"
   ]
  },
  {
   "cell_type": "markdown",
   "metadata": {},
   "source": [
    "Matplotlib can deal with numpy arrays and other buitin Python containers"
   ]
  },
  {
   "cell_type": "code",
   "execution_count": null,
   "metadata": {},
   "outputs": [],
   "source": [
    "fig, (ax1,ax2) = plt.subplots(figsize=(7,4),nrows=2,ncols=1)\n",
    "\n",
    "x = np.linspace(-np.pi, np.pi, 51, endpoint=True)\n",
    "ax1.plot(x,np.sin(x), label='sin')\n",
    "ax2.plot(x,np.cos(x), label='cos')"
   ]
  },
  {
   "cell_type": "markdown",
   "metadata": {},
   "source": [
    "We can find what to do with the figure and the objects inside it by using the autocomplete trick, but thing get a little out of control here"
   ]
  },
  {
   "cell_type": "code",
   "execution_count": null,
   "metadata": {},
   "outputs": [],
   "source": [
    "# put the cursor after the . and press tab\n",
    "fig."
   ]
  },
  {
   "cell_type": "markdown",
   "metadata": {},
   "source": [
    "Fortunatelly, matplotlib documentation is very good and there is a lot of examples out in the web, but the main resoning to deal with matplotlib objects is to start the completion after a \"`set_`\" or \"`get_`\""
   ]
  },
  {
   "cell_type": "code",
   "execution_count": null,
   "metadata": {},
   "outputs": [],
   "source": [
    "# use the trick here, after the _\n",
    "fig.get_"
   ]
  },
  {
   "cell_type": "code",
   "execution_count": null,
   "metadata": {},
   "outputs": [],
   "source": [
    "# and here to\n",
    "fig.set_"
   ]
  },
  {
   "cell_type": "markdown",
   "metadata": {},
   "source": [
    "Lets see how to do some simple and useful customizations"
   ]
  },
  {
   "cell_type": "code",
   "execution_count": null,
   "metadata": {},
   "outputs": [],
   "source": [
    "ax1.set_title(\"Sine function\")\n",
    "ax1.set_xticks([-np.pi, -np.pi/2, 0, np.pi/2, np.pi])\n",
    "ax1.set_xticklabels(r'$-\\pi$ $-\\frac{\\pi}{2}$ $0$ $\\frac{\\pi}{2}$ $\\pi$'.split())\n",
    "for p,s in ax1.spines.items():\n",
    "    if p in [\"top\", \"right\"]:\n",
    "        s.set_visible(False)\n",
    "\n",
    "l1 = ax1.get_lines()[0]\n",
    "l1.set_color(\"#cc3388\")\n",
    "\n",
    "ax1.legend(loc='upper left')\n",
    "ax2.grid(True)\n",
    "ax2.legend(loc=(1.05,0))\n",
    "\n",
    "fig"
   ]
  },
  {
   "cell_type": "markdown",
   "metadata": {},
   "source": [
    "The `plot` method only plot lines. We can plot bars, scatter points and heatmaps by using the appropriate function"
   ]
  },
  {
   "cell_type": "code",
   "execution_count": null,
   "metadata": {},
   "outputs": [],
   "source": [
    "plt.bar(np.arange(0,10), np.random.rand(10))"
   ]
  },
  {
   "cell_type": "code",
   "execution_count": null,
   "metadata": {},
   "outputs": [],
   "source": [
    "sample = lambda l,n: np.random.choice(l,n)\n",
    "sample_space = np.linspace(-5,5,101,endpoint=True)\n",
    "plt.scatter(sample(sample_space, 50), sample(sample_space, 50), color='r', marker='*')"
   ]
  },
  {
   "cell_type": "code",
   "execution_count": null,
   "metadata": {},
   "outputs": [],
   "source": [
    "plt.pcolormesh(f)"
   ]
  },
  {
   "cell_type": "code",
   "execution_count": null,
   "metadata": {},
   "outputs": [],
   "source": [
    "plt.imshow(f)"
   ]
  },
  {
   "cell_type": "markdown",
   "metadata": {},
   "source": [
    "Matplotlib also provides 3D plots and functions to produce animations, but we won't cover it here"
   ]
  },
  {
   "cell_type": "markdown",
   "metadata": {},
   "source": [
    "## Pandas\n",
    "\n",
    "Pandas is a package to deal with tabular data sets. It provides de DataFrame type, together with many query, transformation and plotting functions for it, built on top of numpy and matplotlib.\n",
    "\n",
    "A DataFrame is somewhat similar to a Python dict, but with lots of utilities homogeneous columns of data.\n",
    "There is a lot to learn about pandas, but the basics are very simple"
   ]
  },
  {
   "cell_type": "code",
   "execution_count": null,
   "metadata": {},
   "outputs": [],
   "source": [
    "import pandas as pd\n",
    "\n",
    "df = pd.DataFrame({'a':np.random.rand(10), \n",
    "                   'b':np.random.choice([True,False],10),\n",
    "                   'c':np.random.choice(['A','B'],10)})\n",
    "\n",
    "df"
   ]
  },
  {
   "cell_type": "markdown",
   "metadata": {},
   "source": [
    "We can index a DataFrame by the column name, which returns pandas Series object, eiter by the traditional index notation or using the `.` notation"
   ]
  },
  {
   "cell_type": "code",
   "execution_count": null,
   "metadata": {},
   "outputs": [],
   "source": [
    "df['a']"
   ]
  },
  {
   "cell_type": "code",
   "execution_count": null,
   "metadata": {},
   "outputs": [],
   "source": [
    "df.a"
   ]
  },
  {
   "cell_type": "markdown",
   "metadata": {},
   "source": [
    "We can recover a line by using the `loc` indexer, which the line as a pandas Series"
   ]
  },
  {
   "cell_type": "code",
   "execution_count": null,
   "metadata": {},
   "outputs": [],
   "source": [
    "df.loc[1]"
   ]
  },
  {
   "cell_type": "markdown",
   "metadata": {},
   "source": [
    "Note that"
   ]
  },
  {
   "cell_type": "code",
   "execution_count": null,
   "metadata": {},
   "outputs": [],
   "source": [
    "df['a'][1] == df.loc[1]['a']"
   ]
  },
  {
   "cell_type": "markdown",
   "metadata": {},
   "source": [
    "we can fancy index a Dataframe"
   ]
  },
  {
   "cell_type": "code",
   "execution_count": null,
   "metadata": {},
   "outputs": [],
   "source": [
    "df[df['a']>0.4][df['b']==True]"
   ]
  },
  {
   "cell_type": "code",
   "execution_count": null,
   "metadata": {},
   "outputs": [],
   "source": [
    "df[['a','c','b']]"
   ]
  },
  {
   "cell_type": "markdown",
   "metadata": {},
   "source": [
    "We can create new columns"
   ]
  },
  {
   "cell_type": "code",
   "execution_count": null,
   "metadata": {},
   "outputs": [],
   "source": [
    "df['d'] = 2*df.a - 1 + df.b*2\n",
    "df"
   ]
  },
  {
   "cell_type": "markdown",
   "metadata": {},
   "source": [
    "We can plot a column against another"
   ]
  },
  {
   "cell_type": "code",
   "execution_count": null,
   "metadata": {},
   "outputs": [],
   "source": [
    "df.plot.scatter(x='a',y='d')"
   ]
  },
  {
   "cell_type": "markdown",
   "metadata": {},
   "source": [
    "We can also merge, split, query and do transformations using methods of a DataFrame and a lot more. To learn everything, consult the pandas documentation, which very good."
   ]
  },
  {
   "cell_type": "markdown",
   "metadata": {},
   "source": [
    "## Scikit-learn and datasets\n",
    "\n",
    "Scikits are Pythons packages followinuo a certain implementation guidelines for specific usecases. The best of them is scikit-learn, a package to do machine learning in Pyhton with plenty examples and datasets to test the models. Some of the ML examples in the next sessions will are built with scikit-learn, so here we just mention the fact that we can use to load simple public datasets, like the iris and digits mnist datasets, commonly used in ML examples and as starting point to implement a model.\n",
    "\n",
    "To load toy datasets in scikit-learn do"
   ]
  },
  {
   "cell_type": "code",
   "execution_count": null,
   "metadata": {},
   "outputs": [],
   "source": [
    "from sklearn import datasets\n",
    "# press the tab key after the \"_\" and choose a dataset\n",
    "my_toy_dataset = datasets.load_boston()\n",
    "my_toy_dataset"
   ]
  },
  {
   "cell_type": "markdown",
   "metadata": {},
   "source": [
    "Notice we can use the autocomplete trick to check which datasets are available, or refer to the documentation"
   ]
  },
  {
   "cell_type": "code",
   "execution_count": null,
   "metadata": {},
   "outputs": [],
   "source": [
    "# press the tab key with the cursor after \"_\"\n",
    "datasets.load_"
   ]
  },
  {
   "cell_type": "markdown",
   "metadata": {},
   "source": [
    "We see the information available in a dataset by asking for its keys, since its a python dict"
   ]
  },
  {
   "cell_type": "code",
   "execution_count": null,
   "metadata": {},
   "outputs": [],
   "source": [
    "for k in my_toy_dataset.keys(): print(k)"
   ]
  },
  {
   "cell_type": "markdown",
   "metadata": {},
   "source": [
    "and we can use the keys to inspect the detaset contents"
   ]
  },
  {
   "cell_type": "code",
   "execution_count": null,
   "metadata": {},
   "outputs": [],
   "source": [
    "print(my_toy_dataset[\"DESCR\"])"
   ]
  },
  {
   "cell_type": "markdown",
   "metadata": {},
   "source": [
    "We can also transform it in a pandas DataFrame"
   ]
  },
  {
   "cell_type": "code",
   "execution_count": null,
   "metadata": {},
   "outputs": [],
   "source": [
    "my_toy_dataframe = pd.DatoaFrame(np.hstack([my_toy_dataset['data'],np.atleast_2d(my_toy_dataset['target']).T]),\n",
    "                                columns=my_toy_dataset['feature_names'].tolist()+['target'])\n",
    "my_toy_dataframe.head()"
   ]
  },
  {
   "cell_type": "markdown",
   "metadata": {},
   "source": [
    "## Exercise 2\n",
    "\n",
    "Lets fit a line to a sample of points and plot it.\n",
    "\n",
    "Consider a dataset $\\{(x_1,y_1),(x_2,y_2),\\dots,(x_n,y_n)\\}$ for which our theory says that $y = ax + b$.\n",
    "Given that our measure instrument have a nominal precision, we expect the data points to be not exactly described by the theory. We can assign a Gaussian distribution for the errors around the expected behaviour dictated by our model, or in other words we expect $y_i = ax_i + b + \\xi_i$, where $\\xi_i$ are normally distributed.\n",
    "This means that $E = \\sum_i \\xi_i = \\sum_i (y_i - ax_i - b)$ and the task to fit the line is to find the values of the paramenters $a$ and $b$ that minimize the total error $E$.\n",
    "\n",
    "Under this assumptions, the solution to this problem is given by \n",
    "$$\\hat{b} = \\bar{y} - \\hat{a}\\bar{x}$$\n",
    "\n",
    "and \n",
    "\n",
    "$$ \\hat{a} = \\frac{\\sum_i(x_i-\\bar{x})(y_i - \\bar{y})}{\\sum_i(x_i - \\bar{x})^2} $$\n",
    "\n",
    "where $\\bar{x} = \\frac{1}{n}\\sum_i x_i$ and $\\bar{y} = \\frac{1}{n}\\sum_i y_i$\n",
    "\n",
    "In this exercise you must write a function that that takes the dataset and output the solution $\\hat{a}$ and $\\hat{b}$for the line fit and then plot the data points and the line fitted.\n",
    "\n",
    "Use the following data points stored in a dict called `sample`"
   ]
  },
  {
   "cell_type": "code",
   "execution_count": 21,
   "metadata": {},
   "outputs": [
    {
     "name": "stdout",
     "output_type": "stream",
     "text": [
      "\n",
      "+--------+--------+\n",
      "|    x   |    y   |\n",
      "+--------+--------+\n",
      "|  -20.0 |  -67.8 |\n",
      "|  -19.0 |  -64.9 |\n",
      "|  -18.0 |  -60.6 |\n",
      "|  -17.0 |  -56.2 |\n",
      "|  -16.0 |  -54.5 |\n",
      "|  -15.0 |  -51.0 |\n",
      "|  -14.0 |  -45.7 |\n",
      "|  -13.0 |  -43.0 |\n",
      "|  -12.0 |  -40.7 |\n",
      "|  -11.0 |  -36.2 |\n",
      "|  -10.0 |  -33.7 |\n",
      "|   -9.0 |  -30.2 |\n",
      "|   -8.0 |  -26.0 |\n",
      "|   -7.0 |  -24.7 |\n",
      "|   -6.0 |  -21.0 |\n",
      "|   -5.0 |  -16.3 |\n",
      "|   -4.0 |  -13.3 |\n",
      "|   -3.0 |  -8.44 |\n",
      "|   -2.0 |  -6.16 |\n",
      "|   -1.0 |  -3.16 |\n",
      "|    0.0 |   3.22 |\n",
      "|    1.0 |   5.02 |\n",
      "|    2.0 |   8.82 |\n",
      "|    3.0 |   10.8 |\n",
      "|    4.0 |   15.2 |\n",
      "|    5.0 |   19.4 |\n",
      "|    6.0 |   21.6 |\n",
      "|    7.0 |   26.6 |\n",
      "|    8.0 |   29.1 |\n",
      "|    9.0 |   33.0 |\n",
      "|   10.0 |   36.1 |\n",
      "|   11.0 |   42.1 |\n",
      "|   12.0 |   43.7 |\n",
      "|   13.0 |   46.2 |\n",
      "|   14.0 |   51.6 |\n",
      "|   15.0 |   53.0 |\n",
      "|   16.0 |   58.0 |\n",
      "|   17.0 |   59.3 |\n",
      "|   18.0 |   63.4 |\n",
      "|   19.0 |   68.4 |\n",
      "|   20.0 |   72.5 |\n",
      "+--------+--------+\n"
     ]
    }
   ],
   "source": [
    "from numpy.random import randn, seed\n",
    "seed(42)\n",
    "real_a, real_b = 3.5, 1.75\n",
    "sample = {x: y for (x, y) in zip([x_i for x_i in range(-20,21)],\n",
    "                                 [real_b + real_a*x_i + randn() for x_i in range(-20,21)])}\n",
    "\n",
    "print(\"\"\"\n",
    "+--------+--------+\n",
    "|    x   |    y   |\n",
    "+--------+--------+\n",
    "\"\"\" + \"\\n\".join([f\"| {float(x):6.3} | {y:6.3} |\" for (x,y) in sample.items()]) +\\\n",
    "\"\"\"\n",
    "+--------+--------+\"\"\")"
   ]
  },
  {
   "cell_type": "markdown",
   "metadata": {},
   "source": [
    "## Exercise 3\n",
    "\n",
    "Monte Carlo simulations are conceptually simple and a very effective approach to sample from unknown probability distributions. The simplest example of Monte Carlo, however, is to compute an approximation to the value of $\\pi$, which we know the first digits to be $3.1415926$.\n",
    "\n",
    "To compute this approximation, we \"compare\" the areas of a squre and a circle inscribed in the square. Suppose the circle to have radius $1$, so the lenght of the sides of the surrounding square must be $2$. If we assign the center of the figures to be in the origin $x=0, y=0$, then the corners of the square are $(-1,-1),(-1,1),(1,1),(1,-1)$ and if we sample random numbers in the interval $[0,1]$ we can cover 1 quarter of the area of the square and one quadrant of the circle.\n",
    "The areas are $1$ for the square quarter and ${\\pi \\over 4}$ for the circle quadrant. So, dividing the number of random points that fall within the circle quadrant by the total number of points sampled is somewhat like dividing the area of the circle quadrant by the area of the square quarter (somewhat meaning that we are estimating the area ratio and the estimate gets better the more we sample.  \n",
    "The precision of the estimate depends, in this case, only on the sample size). The area ratio should also be an estimate for $\\pi \\over 4$ in this case.\n",
    "Notice that a point $(x,y)$ within the cicle must satisfy $x^2 + y^2 \\le 1$.\n",
    "\n",
    "In this exercise you must implement a this Monte Carlo simulation that returns an estimate for the value of $\\pi$. It should accept as input the number of sample points."
   ]
  },
  {
   "cell_type": "code",
   "execution_count": null,
   "metadata": {},
   "outputs": [],
   "source": []
  },
  {
   "cell_type": "code",
   "execution_count": null,
   "metadata": {},
   "outputs": [],
   "source": []
  },
  {
   "cell_type": "code",
   "execution_count": null,
   "metadata": {},
   "outputs": [],
   "source": []
  },
  {
   "cell_type": "code",
   "execution_count": null,
   "metadata": {},
   "outputs": [],
   "source": []
  },
  {
   "cell_type": "code",
   "execution_count": null,
   "metadata": {},
   "outputs": [],
   "source": []
  },
  {
   "cell_type": "code",
   "execution_count": null,
   "metadata": {},
   "outputs": [],
   "source": []
  },
  {
   "cell_type": "code",
   "execution_count": null,
   "metadata": {},
   "outputs": [],
   "source": []
  },
  {
   "cell_type": "code",
   "execution_count": null,
   "metadata": {},
   "outputs": [],
   "source": []
  },
  {
   "cell_type": "code",
   "execution_count": null,
   "metadata": {},
   "outputs": [],
   "source": []
  },
  {
   "cell_type": "code",
   "execution_count": null,
   "metadata": {},
   "outputs": [],
   "source": []
  },
  {
   "cell_type": "code",
   "execution_count": null,
   "metadata": {},
   "outputs": [],
   "source": []
  },
  {
   "cell_type": "code",
   "execution_count": null,
   "metadata": {},
   "outputs": [],
   "source": []
  },
  {
   "cell_type": "markdown",
   "metadata": {},
   "source": [
    "### Solution to Exercise 1"
   ]
  },
  {
   "cell_type": "markdown",
   "metadata": {},
   "source": [
    "###  Exercise 1\n",
    " \n",
    "Complete the following tasks:\n",
    "  1. write a function that accepts a list as input and gives back a list with the elemet `\"intruder\"` in the middle of it. Call the function with any list you want and then check if your original list is unchanged.\n",
    "  2. write a function to check if a given word is in a given string and, if positive, capitalizes it. \n",
    "  3. write the following functions for a numeric input `x`, assumed to be in a list `Xs`:\n",
    "    1. takes `x` and returns `2*x`\n",
    "    2. takes `x` and returns `x - 1`\n",
    "    3. takes `Xs` and returns a list where the elemets are divided by the sum of `Xs`.\n",
    "  4. build a list chaining the application of the functions in the item 3\n",
    "  5. use the string methods to format the string `\"a,b,c,d,e,f,g,h,i\"` so each vowel is capitalized and the letters are separated by \"_:_\" instead of \",\"."
   ]
  },
  {
   "cell_type": "code",
   "execution_count": null,
   "metadata": {},
   "outputs": [],
   "source": []
  },
  {
   "cell_type": "code",
   "execution_count": 49,
   "metadata": {},
   "outputs": [
    {
     "name": "stdout",
     "output_type": "stream",
     "text": [
      "[1.0, 0.8181818181818182, 0.6363636363636364, 0.45454545454545453, 0.2727272727272727, 0.09090909090909091, -0.09090909090909091, -0.2727272727272727, -0.45454545454545453, -0.6363636363636364, -0.8181818181818182]\n"
     ]
    },
    {
     "data": {
      "text/plain": [
       "'A_:_b_:_c_:_d_:_E_:_f_:_g_:_h_:_I'"
      ]
     },
     "execution_count": 49,
     "metadata": {},
     "output_type": "execute_result"
    }
   ],
   "source": [
    "def break_in(l):\n",
    "    n = len(l)\n",
    "    return l[:n//2] + [\"intruder\"] + l[n//2:]\n",
    "\n",
    "def find_and_capitalize(w,s):\n",
    "    if w in s: s.replace(w,w.capitalize())\n",
    "    return s\n",
    "\n",
    "def doubles_it(x):\n",
    "    return 2*x\n",
    "\n",
    "def decrement_it(x):\n",
    "    return x - 1\n",
    "\n",
    "def normalize_by_sum(Xs):\n",
    "    return [x/sum(Xs) for x in Xs]\n",
    "\n",
    "item_4_list = normalize_by_sum([decrement_it(doubles_it(x)) for x in range(-5,6)])\n",
    "print(item_4_list)\n",
    "\n",
    "def capitalize_vowels(s):\n",
    "    if s in \"aeiou\": return s.capitalize()\n",
    "    return s\n",
    "    \n",
    "original_string = \"a,b,c,d,e,f,g,h,i\"\n",
    "\"_:_\".join([capitalize_vowels(p) for p in original_string.split(',')])"
   ]
  },
  {
   "cell_type": "markdown",
   "metadata": {},
   "source": [
    "### Solution to Exercise 2 "
   ]
  },
  {
   "cell_type": "code",
   "execution_count": 22,
   "metadata": {},
   "outputs": [
    {
     "name": "stdout",
     "output_type": "stream",
     "text": [
      "\n",
      "+---+--------+--------+\n",
      "|   | Real   | Fit    |\n",
      "+---+--------+--------+\n",
      "| a |    3.5 |   3.48 |\n",
      "| b |   1.75 |   1.55 |\n",
      "+---+--------+--------+\n",
      "\n"
     ]
    }
   ],
   "source": [
    "def line_fit_coefficients(data):\n",
    "    mean_x, mean_y = (sum(a)/len(a) for a in zip(*data.items()))\n",
    "    hat_a = sum((mean_x - x_i)*(mean_y - y_i) \n",
    "                for (x_i, y_i) in data.items())/sum((mean_x - x_i)**2\n",
    "                                                       for x_i in data.keys())\n",
    "    hat_b = mean_y - hat_a*mean_x\n",
    "    return hat_a, hat_b\n",
    "\n",
    "hat_a, hat_b = line_fit_coefficients(sample)\n",
    "print(f\"\"\"\n",
    "+---+--------+--------+\n",
    "|   | Real   | Fit    |\n",
    "+---+--------+--------+\n",
    "| a | {real_a:6.3} | {hat_a:6.3} |\n",
    "| b | {real_b:6.3} | {hat_b:6.3} |\n",
    "+---+--------+--------+\n",
    "\"\"\")"
   ]
  },
  {
   "cell_type": "code",
   "execution_count": 23,
   "metadata": {},
   "outputs": [
    {
     "data": {
      "text/plain": [
       "<matplotlib.legend.Legend at 0x7fbb183386d8>"
      ]
     },
     "execution_count": 23,
     "metadata": {},
     "output_type": "execute_result"
    },
    {
     "data": {
      "image/png": "[encoded data removed]",
      "text/plain": [
       "<Figure size 432x432 with 1 Axes>"
      ]
     },
     "metadata": {
      "needs_background": "light"
     },
     "output_type": "display_data"
    }
   ],
   "source": [
    "%matplotlib inline\n",
    "import matplotlib.pyplot as plt\n",
    "\n",
    "fig, ax = plt.subplots(figsize=(6,6))\n",
    "x, y = zip(*sample.items())\n",
    "ax.plot(x, y, '.',label='Data')\n",
    "ax.plot(x, [hat_b + hat_a*x_i for x_i in x], label='Fit')\n",
    "ax.legend(loc=(1.02,0))"
   ]
  },
  {
   "cell_type": "markdown",
   "metadata": {},
   "source": [
    "### Solution to Exercise 3  "
   ]
  },
  {
   "cell_type": "code",
   "execution_count": 34,
   "metadata": {},
   "outputs": [],
   "source": [
    "foo = np.ones(2)"
   ]
  },
  {
   "cell_type": "code",
   "execution_count": 36,
   "metadata": {},
   "outputs": [
    {
     "data": {
      "text/plain": [
       "array([1., 1., 1., 1.])"
      ]
     },
     "execution_count": 36,
     "metadata": {},
     "output_type": "execute_result"
    }
   ],
   "source": [
    "np.array([*foo,*foo])"
   ]
  },
  {
   "cell_type": "code",
   "execution_count": 4,
   "metadata": {},
   "outputs": [
    {
     "data": {
      "text/plain": [
       "3.1864"
      ]
     },
     "execution_count": 4,
     "metadata": {},
     "output_type": "execute_result"
    },
    {
     "data": {
      "image/png": "[encoded data removed]",
      "text/plain": [
       "<Figure size 216x216 with 1 Axes>"
      ]
     },
     "metadata": {},
     "output_type": "display_data"
    }
   ],
   "source": [
    "%matplotlib inline\n",
    "import numpy as np\n",
    "import matplotlib.pyplot as plt\n",
    "rand = np.random.rand\n",
    "\n",
    "def mc_sample_pi(n):\n",
    "    x,y = rand(2,n)\n",
    "    circle = x**2 + y**2\n",
    "    within_circle = circle[circle <= 1]\n",
    "    pi_estimate = 4*within_circle.shape[0]/n\n",
    "    # lets plot it\n",
    "    xc,yc = x[circle<=1], y[circle<=1]\n",
    "    xs,ys = x[circle>1], y[circle>1]\n",
    "    c_props, s_props = {'color':'r', 'marker':1}, {'color':'b', 'marker':1}\n",
    "    fig, ax = plt.subplots(figsize=(3,3))\n",
    "#     ax.scatter([*xc,*(-xc),*xc,*(-xc)],[*yc,*yc,*(-yc),*(-yc)],**c_props)\n",
    "#     ax.scatter([*xs,*(-xs),*xs,*(-xs)],[*ys,*ys,*(-ys),*(-ys)],**s_props)\n",
    "    ax.scatter(xc,yc,color='r',marker=1)\n",
    "    ax.scatter(xs,ys,color='b',marker=1)\n",
    "    for p,s in ax.spines.items():\n",
    "        s.set_visible(False)\n",
    "    ax.set_xticks([])\n",
    "    ax.set_yticks([])\n",
    "    return pi_estimate\n",
    "\n",
    "pi_estimate = np.array([mc_sample_pi(10000) for _ in range(1)]).mean()\n",
    "pi_estimate"
   ]
  },
  {
   "cell_type": "code",
   "execution_count": null,
   "metadata": {},
   "outputs": [],
   "source": []
  }
 ],
 "metadata": {
  "kernelspec": {
   "display_name": "Python 3",
   "language": "python",
   "name": "python3"
  },
  "language_info": {
   "codemirror_mode": {
    "name": "ipython",
    "version": 3
   },
   "file_extension": ".py",
   "mimetype": "text/x-python",
   "name": "python",
   "nbconvert_exporter": "python",
   "pygments_lexer": "ipython3",
   "version": "3.7.3"
  }
 },
 "nbformat": 4,
 "nbformat_minor": 4
}
